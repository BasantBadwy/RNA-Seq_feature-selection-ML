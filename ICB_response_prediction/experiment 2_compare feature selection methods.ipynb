{
 "cells": [
  {
   "cell_type": "markdown",
   "metadata": {},
   "source": [
    "this code for compare diffrent types of feature selection techniques.\n",
    "experiment 2: compare feature selection methods following the initial use of the univariate ROC-AUC method, including\n",
    "two embedded techniques: LASSO and Random forest variable importance. Moreover, mutual information and ReliefF methods. "
   ]
  },
  {
   "cell_type": "code",
   "execution_count": 1,
   "metadata": {},
   "outputs": [],
   "source": [
    "import numpy as np\n",
    "import pandas as pd\n",
    "import matplotlib.pyplot as plt\n",
    "import seaborn as sns\n",
    "from mpl_toolkits.mplot3d import Axes3D\n",
    "from sklearn.preprocessing import StandardScaler\n",
    "from sklearn.decomposition import PCA\n",
    "from sklearn.model_selection import GridSearchCV, cross_val_score, train_test_split, LeaveOneOut, KFold, StratifiedKFold\n",
    "from sklearn.metrics import accuracy_score, confusion_matrix, roc_auc_score, classification_report\n",
    "from sklearn.cluster import KMeans\n",
    "from sklearn.svm import SVC\n",
    "from sklearn.linear_model import LogisticRegression, Lasso\n",
    "from sklearn.naive_bayes import GaussianNB\n",
    "from sklearn.ensemble import RandomForestClassifier, AdaBoostClassifier, BaggingClassifier, GradientBoostingClassifier, ExtraTreesClassifier\n",
    "import xgboost as xgb\n",
    "from feature_engine.selection import DropDuplicateFeatures, DropConstantFeatures\n",
    "from sklearn.feature_selection import SelectFromModel, VarianceThreshold\n",
    "from imblearn.over_sampling import RandomOverSampler, SMOTE, ADASYN, BorderlineSMOTE, SVMSMOTE\n",
    "from sklearn.ensemble import VotingClassifier\n",
    "from sklearn.tree import DecisionTreeClassifier\n",
    "from mlxtend.classifier import EnsembleVoteClassifier\n",
    "from sklearn.neighbors import KNeighborsClassifier\n",
    "from sklearn.neural_network import MLPClassifier\n",
    "from sklearn.preprocessing import LabelEncoder\n",
    "from xgboost import XGBClassifier\n",
    "from catboost import CatBoostClassifier\n",
    "from sklearn.metrics import roc_auc_score, plot_roc_curve\n",
    "from yellowbrick.classifier import ROCAUC\n"
   ]
  },
  {
   "cell_type": "markdown",
   "metadata": {},
   "source": [
    "# input the data (gene expression array) and labels"
   ]
  },
  {
   "cell_type": "code",
   "execution_count": 2,
   "metadata": {},
   "outputs": [
    {
     "data": {
      "text/plain": [
       "'gide'"
      ]
     },
     "execution_count": 2,
     "metadata": {},
     "output_type": "execute_result"
    }
   ],
   "source": [
    "filenames = ['riaz', 'gide', 'van allen', 'hugo', 'lee']\n",
    "name= filenames[1]\n",
    "name"
   ]
  },
  {
   "cell_type": "code",
   "execution_count": 3,
   "metadata": {},
   "outputs": [
    {
     "name": "stdout",
     "output_type": "stream",
     "text": [
      "(72, 22098)\n",
      "            FAM138A  OR4F5    WASH9P  LINC01409    FAM87B  LINC01128  \\\n",
      "PD1_2_PRE       0.0    0.0  5.076753   3.201590  0.000000   1.952068   \n",
      "PD1_4_PRE       0.0    0.0  4.458884   4.227967  2.116873   3.194789   \n",
      "PD1_6_PRE       0.0    0.0  4.077774   3.503593  0.000000   2.612036   \n",
      "PD1_15_PRE      0.0    0.0  5.344685   3.615239  0.000000   3.172880   \n",
      "PD1_16_PRE      0.0    0.0  4.655988   3.862449  0.000000   1.971780   \n",
      "\n",
      "            LINC00115    FAM41C  LINC02593    SAMD11  ...    SERF1A     SFTA3  \\\n",
      "PD1_2_PRE    6.669880  0.000000   2.033235  1.963940  ...  0.000000  0.000000   \n",
      "PD1_4_PRE    7.434516  0.551825   0.000000  1.995952  ...  0.299067  0.000000   \n",
      "PD1_6_PRE    8.221054  0.000000   0.000000  0.725464  ...  0.000000  0.000000   \n",
      "PD1_15_PRE   8.755374  0.000000   0.000000  1.968548  ...  0.000000  0.000000   \n",
      "PD1_16_PRE   7.602921  0.000000   0.000000  2.722831  ...  0.000000  0.414746   \n",
      "\n",
      "            SLCO1B7      SMN1   SPATA13  ST6GALNAC6      TAB2    TBC1D3  \\\n",
      "PD1_2_PRE       0.0  5.161411  2.593349    5.432568  4.826255  6.101167   \n",
      "PD1_4_PRE       0.0  4.176332  2.653924    5.250999  4.589397  3.437260   \n",
      "PD1_6_PRE       0.0  5.472809  2.076021    4.356390  5.548649  0.000000   \n",
      "PD1_15_PRE      0.0  4.212822  3.102914    4.783174  4.717213  5.252855   \n",
      "PD1_16_PRE      0.0  4.581467  3.773896    5.285875  4.791751  4.476568   \n",
      "\n",
      "                TUT1   USP17L8  \n",
      "PD1_2_PRE   8.265418  3.180353  \n",
      "PD1_4_PRE   8.169728  2.625227  \n",
      "PD1_6_PRE   8.955182  0.000000  \n",
      "PD1_15_PRE  8.609668  0.000000  \n",
      "PD1_16_PRE  8.546153  0.000000  \n",
      "\n",
      "[5 rows x 22098 columns]\n",
      "(72, 1)\n",
      "            Resp_NoResp\n",
      "PD1_2_PRE   No_Response\n",
      "PD1_4_PRE   No_Response\n",
      "PD1_6_PRE   No_Response\n",
      "PD1_15_PRE  No_Response\n",
      "PD1_16_PRE  No_Response\n",
      "Response       45\n",
      "No_Response    27\n",
      "Name: Resp_NoResp, dtype: int64\n",
      "Response       0.625\n",
      "No_Response    0.375\n",
      "Name: Resp_NoResp, dtype: float64\n",
      "            Resp_NoResp\n",
      "PD1_2_PRE             0\n",
      "PD1_4_PRE             0\n",
      "PD1_6_PRE             0\n",
      "PD1_15_PRE            0\n",
      "PD1_16_PRE            0\n",
      "PD1_2_PRE     0\n",
      "PD1_4_PRE     0\n",
      "PD1_6_PRE     0\n",
      "PD1_15_PRE    0\n",
      "PD1_16_PRE    0\n",
      "Name: Resp_NoResp, dtype: int64\n",
      "PD1_2_PRE     0\n",
      "PD1_4_PRE     0\n",
      "PD1_6_PRE     0\n",
      "PD1_15_PRE    0\n",
      "PD1_16_PRE    0\n",
      "Name: Resp_NoResp, dtype: int64\n",
      "(72,)\n"
     ]
    }
   ],
   "source": [
    "filenames = ['riaz', 'gide', 'van allen', 'hugo', 'lee']\n",
    "name= filenames[1]\n",
    "\n",
    "# Read logged data\n",
    "logged_data = pd.read_csv('data/' + name + '_logged_data.csv', index_col='Unnamed: 0').T\n",
    "print(logged_data.shape)\n",
    "print(logged_data.head())\n",
    "\n",
    "# Read labels\n",
    "label = pd.read_csv('data/' + name + '.Pre.Samples.corr.csv', index_col='Unnamed: 0')\n",
    "print(label.shape)\n",
    "print(label.head())\n",
    "\n",
    "# Count of labels\n",
    "print(label['Resp_NoResp'].value_counts())\n",
    "\n",
    "# Normalized count of labels\n",
    "print(label['Resp_NoResp'].value_counts(normalize=True))\n",
    "\n",
    "# Label encoding\n",
    "y = label.replace({'No_Response': 0, 'Response': 1})\n",
    "labels = ['No_Response', 'Response']  # for plotting convenience later on\n",
    "\n",
    "print(y.head())\n",
    "print(y['Resp_NoResp'].head())\n",
    "print(y.iloc[:, 0].head())\n",
    "print(y.iloc[:, 0].shape)\n"
   ]
  },
  {
   "cell_type": "code",
   "execution_count": 4,
   "metadata": {},
   "outputs": [
    {
     "name": "stdout",
     "output_type": "stream",
     "text": [
      "(1811, 1)\n"
     ]
    },
    {
     "data": {
      "text/html": [
       "<div>\n",
       "<style scoped>\n",
       "    .dataframe tbody tr th:only-of-type {\n",
       "        vertical-align: middle;\n",
       "    }\n",
       "\n",
       "    .dataframe tbody tr th {\n",
       "        vertical-align: top;\n",
       "    }\n",
       "\n",
       "    .dataframe thead th {\n",
       "        text-align: right;\n",
       "    }\n",
       "</style>\n",
       "<table border=\"1\" class=\"dataframe\">\n",
       "  <thead>\n",
       "    <tr style=\"text-align: right;\">\n",
       "      <th></th>\n",
       "      <th>Symbol</th>\n",
       "    </tr>\n",
       "  </thead>\n",
       "  <tbody>\n",
       "    <tr>\n",
       "      <th>0</th>\n",
       "      <td>AZGP1</td>\n",
       "    </tr>\n",
       "    <tr>\n",
       "      <th>1</th>\n",
       "      <td>B2M</td>\n",
       "    </tr>\n",
       "    <tr>\n",
       "      <th>2</th>\n",
       "      <td>CALR</td>\n",
       "    </tr>\n",
       "    <tr>\n",
       "      <th>3</th>\n",
       "      <td>CANX</td>\n",
       "    </tr>\n",
       "    <tr>\n",
       "      <th>4</th>\n",
       "      <td>CD1A</td>\n",
       "    </tr>\n",
       "  </tbody>\n",
       "</table>\n",
       "</div>"
      ],
      "text/plain": [
       "  Symbol\n",
       "0  AZGP1\n",
       "1    B2M\n",
       "2   CALR\n",
       "3   CANX\n",
       "4   CD1A"
      ]
     },
     "execution_count": 4,
     "metadata": {},
     "output_type": "execute_result"
    }
   ],
   "source": [
    "#read the immune related genes from immport\n",
    "IRG= pd.read_csv('IRG.csv')\n",
    "print(IRG.shape)\n",
    "IRG.head()"
   ]
  },
  {
   "cell_type": "markdown",
   "metadata": {},
   "source": [
    "# data oversampling"
   ]
  },
  {
   "cell_type": "code",
   "execution_count": 5,
   "metadata": {},
   "outputs": [
    {
     "name": "stderr",
     "output_type": "stream",
     "text": [
      "C:\\Users\\LENOVO\\anaconda3\\lib\\site-packages\\imblearn\\over_sampling\\_smote\\filter.py:192: FutureWarning: The parameter `n_jobs` has been deprecated in 0.10 and will be removed in 0.12. You can pass an nearest neighbors estimator where `n_jobs` is already set instead.\n",
      "  warnings.warn(\n"
     ]
    },
    {
     "name": "stdout",
     "output_type": "stream",
     "text": [
      "(90, 22098) (90,)\n",
      "1    45\n",
      "0    27\n",
      "Name: Resp_NoResp, dtype: int64 1    45\n",
      "0    45\n",
      "Name: Resp_NoResp, dtype: int64\n"
     ]
    }
   ],
   "source": [
    "# Define features (X) and target (Y)\n",
    "X = logged_data\n",
    "Y = y.iloc[:, 0]\n",
    "\n",
    "# Oversampling using BorderlineSMOTE\n",
    "ada = BorderlineSMOTE(\n",
    "    sampling_strategy='auto',  # samples only the minority class\n",
    "    random_state=0,  # for reproducibility\n",
    "    k_neighbors=5,\n",
    "    m_neighbors=10,\n",
    "    kind='borderline-1',\n",
    "    n_jobs=4\n",
    ")\n",
    "\n",
    "# Resample the data\n",
    "X_res, y_res = ada.fit_resample(X, Y)\n",
    "\n",
    "# Print the shapes of resampled data\n",
    "print(X_res.shape, y_res.shape)\n",
    "\n",
    "# Print the counts of the original and resampled target variable\n",
    "print(Y.value_counts(), y_res.value_counts())\n"
   ]
  },
  {
   "cell_type": "markdown",
   "metadata": {},
   "source": [
    "# separate dataset into train and test\n"
   ]
  },
  {
   "cell_type": "code",
   "execution_count": 6,
   "metadata": {},
   "outputs": [
    {
     "name": "stdout",
     "output_type": "stream",
     "text": [
      "(63, 22098) (27, 22098)\n",
      "    FAM138A  OR4F5    WASH9P  LINC01409  FAM87B  LINC01128  LINC00115  \\\n",
      "2       0.0    0.0  4.077774   3.503593     0.0   2.612036   8.221054   \n",
      "13      0.0    0.0  5.103238   3.712569     0.0   2.741953   7.340254   \n",
      "53      0.0    0.0  5.786494   3.364437     0.0   1.642540   6.363859   \n",
      "41      0.0    0.0  5.149037   1.804976     0.0   1.534749   6.492433   \n",
      "66      0.0    0.0  5.662066   3.522241     0.0   1.989737   5.259296   \n",
      "\n",
      "      FAM41C  LINC02593    SAMD11  ...    SERF1A  SFTA3  SLCO1B7      SMN1  \\\n",
      "2   0.000000        0.0  0.725464  ...  0.000000    0.0      0.0  5.472809   \n",
      "13  0.000000        0.0  2.411625  ...  0.000000    0.0      0.0  4.958523   \n",
      "53  0.000000        0.0  1.166203  ...  0.781725    0.0      0.0  4.865167   \n",
      "41  0.000000        0.0  2.738410  ...  0.000000    0.0      0.0  4.066993   \n",
      "66  0.513524        0.0  0.936701  ...  1.733343    0.0      0.0  5.379111   \n",
      "\n",
      "     SPATA13  ST6GALNAC6      TAB2    TBC1D3      TUT1   USP17L8  \n",
      "2   2.076021    4.356390  5.548649  0.000000  8.955182  0.000000  \n",
      "13  3.592174    5.356930  5.225598  6.215107  8.387105  0.000000  \n",
      "53  2.500479    5.194011  4.281172  6.205727  8.296271  1.883687  \n",
      "41  4.172027    4.715741  3.960945  3.940790  9.038747  0.000000  \n",
      "66  2.863259    5.515367  4.672338  5.681278  8.103307  3.684730  \n",
      "\n",
      "[5 rows x 22098 columns]\n",
      "0    0.518519\n",
      "1    0.481481\n",
      "Name: Resp_NoResp, dtype: float64\n",
      "(63, 22098) (27, 22098)\n"
     ]
    }
   ],
   "source": [
    "# Split the data into train and test sets\n",
    "X_train, X_test, y_train, y_test = train_test_split(X_res, y_res, test_size=0.3, random_state=0)\n",
    "\n",
    "# Display shapes of train and test sets\n",
    "print(X_train.shape, X_test.shape)\n",
    "\n",
    "# Display first few rows of test set\n",
    "print(X_test.head())\n",
    "\n",
    "# Display normalized value counts of target variable in test set\n",
    "print(y_test.value_counts(normalize=True))\n",
    "\n",
    "# Keep a copy of the original datasets\n",
    "X_train_original = X_train.copy()\n",
    "X_test_original = X_test.copy()\n",
    "\n",
    "# Check shapes of train and test sets after copying\n",
    "print(X_train.shape, X_test.shape)\n"
   ]
  },
  {
   "cell_type": "markdown",
   "metadata": {},
   "source": [
    "# use of the data selected by Univariate ROC-AUC Performance to begin with experiment 2"
   ]
  },
  {
   "cell_type": "code",
   "execution_count": null,
   "metadata": {},
   "outputs": [],
   "source": [
    "X_train = pd.read_csv('gide_X_train_uni_roc-auc.csv',index_col = 'Unnamed: 0')\n",
    "print(X_train_uni.shape)\n",
    "X_train_uni.head()\n"
   ]
  },
  {
   "cell_type": "code",
   "execution_count": null,
   "metadata": {},
   "outputs": [],
   "source": [
    "X_test = pd.read_csv('gide_X_test_uni_roc-auc.csv',index_col = 'Unnamed: 0')\n",
    "print(X_test_uni.shape)\n",
    "X_test_uni.head()"
   ]
  },
  {
   "cell_type": "code",
   "execution_count": 37,
   "metadata": {},
   "outputs": [],
   "source": [
    "# keep acopy of the data selected by Univariate ROC-AUC Performance\n",
    "X_train_uni = X_train\n",
    "X_test_uni = X_test"
   ]
  },
  {
   "cell_type": "code",
   "execution_count": null,
   "metadata": {},
   "outputs": [],
   "source": []
  },
  {
   "cell_type": "code",
   "execution_count": 33,
   "metadata": {},
   "outputs": [
    {
     "name": "stdout",
     "output_type": "stream",
     "text": [
      "(63, 1141)\n"
     ]
    },
    {
     "data": {
      "text/html": [
       "<div>\n",
       "<style scoped>\n",
       "    .dataframe tbody tr th:only-of-type {\n",
       "        vertical-align: middle;\n",
       "    }\n",
       "\n",
       "    .dataframe tbody tr th {\n",
       "        vertical-align: top;\n",
       "    }\n",
       "\n",
       "    .dataframe thead th {\n",
       "        text-align: right;\n",
       "    }\n",
       "</style>\n",
       "<table border=\"1\" class=\"dataframe\">\n",
       "  <thead>\n",
       "    <tr style=\"text-align: right;\">\n",
       "      <th></th>\n",
       "      <th>MRPL20</th>\n",
       "      <th>PLCH2</th>\n",
       "      <th>CEP104</th>\n",
       "      <th>VAMP3</th>\n",
       "      <th>PIK3CD</th>\n",
       "      <th>PIK3CD-AS1</th>\n",
       "      <th>CTNNBIP1</th>\n",
       "      <th>DFFA</th>\n",
       "      <th>TMEM51-AS1</th>\n",
       "      <th>PADI3</th>\n",
       "      <th>...</th>\n",
       "      <th>PAK3</th>\n",
       "      <th>MCTS1</th>\n",
       "      <th>ZNF449</th>\n",
       "      <th>ADGRG4</th>\n",
       "      <th>FGF13</th>\n",
       "      <th>SPANXB1</th>\n",
       "      <th>GPR50</th>\n",
       "      <th>DDX3Y</th>\n",
       "      <th>LINC01238</th>\n",
       "      <th>PLA2G2C</th>\n",
       "    </tr>\n",
       "  </thead>\n",
       "  <tbody>\n",
       "    <tr>\n",
       "      <th>79</th>\n",
       "      <td>7.570243</td>\n",
       "      <td>1.821964</td>\n",
       "      <td>5.856766</td>\n",
       "      <td>5.932988</td>\n",
       "      <td>5.742181</td>\n",
       "      <td>5.034410</td>\n",
       "      <td>1.973813</td>\n",
       "      <td>5.702246</td>\n",
       "      <td>0.973665</td>\n",
       "      <td>0.042752</td>\n",
       "      <td>...</td>\n",
       "      <td>0.151941</td>\n",
       "      <td>5.211416</td>\n",
       "      <td>5.415581</td>\n",
       "      <td>0.082789</td>\n",
       "      <td>0.137672</td>\n",
       "      <td>4.049688</td>\n",
       "      <td>0.0</td>\n",
       "      <td>8.110795</td>\n",
       "      <td>0.253986</td>\n",
       "      <td>0.274204</td>\n",
       "    </tr>\n",
       "    <tr>\n",
       "      <th>82</th>\n",
       "      <td>7.093483</td>\n",
       "      <td>1.173003</td>\n",
       "      <td>5.383863</td>\n",
       "      <td>5.930621</td>\n",
       "      <td>5.519404</td>\n",
       "      <td>5.176408</td>\n",
       "      <td>1.545476</td>\n",
       "      <td>5.867246</td>\n",
       "      <td>1.028031</td>\n",
       "      <td>1.085278</td>\n",
       "      <td>...</td>\n",
       "      <td>0.593874</td>\n",
       "      <td>4.935200</td>\n",
       "      <td>5.107300</td>\n",
       "      <td>0.152173</td>\n",
       "      <td>0.153646</td>\n",
       "      <td>2.556665</td>\n",
       "      <td>0.0</td>\n",
       "      <td>8.199987</td>\n",
       "      <td>0.171713</td>\n",
       "      <td>0.000000</td>\n",
       "    </tr>\n",
       "    <tr>\n",
       "      <th>3</th>\n",
       "      <td>7.192808</td>\n",
       "      <td>5.522151</td>\n",
       "      <td>5.474071</td>\n",
       "      <td>5.522044</td>\n",
       "      <td>4.459219</td>\n",
       "      <td>6.050044</td>\n",
       "      <td>2.908931</td>\n",
       "      <td>5.054147</td>\n",
       "      <td>1.955722</td>\n",
       "      <td>0.000000</td>\n",
       "      <td>...</td>\n",
       "      <td>0.979523</td>\n",
       "      <td>4.647634</td>\n",
       "      <td>5.297447</td>\n",
       "      <td>0.289800</td>\n",
       "      <td>0.390714</td>\n",
       "      <td>0.000000</td>\n",
       "      <td>0.0</td>\n",
       "      <td>1.632556</td>\n",
       "      <td>1.851140</td>\n",
       "      <td>0.000000</td>\n",
       "    </tr>\n",
       "    <tr>\n",
       "      <th>62</th>\n",
       "      <td>7.382451</td>\n",
       "      <td>2.226904</td>\n",
       "      <td>5.904765</td>\n",
       "      <td>5.805884</td>\n",
       "      <td>5.167068</td>\n",
       "      <td>7.019796</td>\n",
       "      <td>1.433969</td>\n",
       "      <td>5.277627</td>\n",
       "      <td>0.654643</td>\n",
       "      <td>0.000000</td>\n",
       "      <td>...</td>\n",
       "      <td>0.577084</td>\n",
       "      <td>4.519005</td>\n",
       "      <td>5.120259</td>\n",
       "      <td>0.000000</td>\n",
       "      <td>0.387281</td>\n",
       "      <td>2.410704</td>\n",
       "      <td>0.0</td>\n",
       "      <td>0.000000</td>\n",
       "      <td>0.000000</td>\n",
       "      <td>0.000000</td>\n",
       "    </tr>\n",
       "    <tr>\n",
       "      <th>75</th>\n",
       "      <td>7.679880</td>\n",
       "      <td>1.795303</td>\n",
       "      <td>5.313456</td>\n",
       "      <td>5.910707</td>\n",
       "      <td>5.403834</td>\n",
       "      <td>4.078740</td>\n",
       "      <td>2.384913</td>\n",
       "      <td>5.637014</td>\n",
       "      <td>0.933163</td>\n",
       "      <td>0.000000</td>\n",
       "      <td>...</td>\n",
       "      <td>1.028568</td>\n",
       "      <td>4.929844</td>\n",
       "      <td>5.521676</td>\n",
       "      <td>0.275970</td>\n",
       "      <td>0.138589</td>\n",
       "      <td>0.000000</td>\n",
       "      <td>0.0</td>\n",
       "      <td>4.296515</td>\n",
       "      <td>0.794905</td>\n",
       "      <td>0.000000</td>\n",
       "    </tr>\n",
       "  </tbody>\n",
       "</table>\n",
       "<p>5 rows × 1141 columns</p>\n",
       "</div>"
      ],
      "text/plain": [
       "      MRPL20     PLCH2    CEP104     VAMP3    PIK3CD  PIK3CD-AS1  CTNNBIP1  \\\n",
       "79  7.570243  1.821964  5.856766  5.932988  5.742181    5.034410  1.973813   \n",
       "82  7.093483  1.173003  5.383863  5.930621  5.519404    5.176408  1.545476   \n",
       "3   7.192808  5.522151  5.474071  5.522044  4.459219    6.050044  2.908931   \n",
       "62  7.382451  2.226904  5.904765  5.805884  5.167068    7.019796  1.433969   \n",
       "75  7.679880  1.795303  5.313456  5.910707  5.403834    4.078740  2.384913   \n",
       "\n",
       "        DFFA  TMEM51-AS1     PADI3  ...      PAK3     MCTS1    ZNF449  \\\n",
       "79  5.702246    0.973665  0.042752  ...  0.151941  5.211416  5.415581   \n",
       "82  5.867246    1.028031  1.085278  ...  0.593874  4.935200  5.107300   \n",
       "3   5.054147    1.955722  0.000000  ...  0.979523  4.647634  5.297447   \n",
       "62  5.277627    0.654643  0.000000  ...  0.577084  4.519005  5.120259   \n",
       "75  5.637014    0.933163  0.000000  ...  1.028568  4.929844  5.521676   \n",
       "\n",
       "      ADGRG4     FGF13   SPANXB1  GPR50     DDX3Y  LINC01238   PLA2G2C  \n",
       "79  0.082789  0.137672  4.049688    0.0  8.110795   0.253986  0.274204  \n",
       "82  0.152173  0.153646  2.556665    0.0  8.199987   0.171713  0.000000  \n",
       "3   0.289800  0.390714  0.000000    0.0  1.632556   1.851140  0.000000  \n",
       "62  0.000000  0.387281  2.410704    0.0  0.000000   0.000000  0.000000  \n",
       "75  0.275970  0.138589  0.000000    0.0  4.296515   0.794905  0.000000  \n",
       "\n",
       "[5 rows x 1141 columns]"
      ]
     },
     "execution_count": 33,
     "metadata": {},
     "output_type": "execute_result"
    }
   ],
   "source": [
    "X_train_uni= pd.read_csv('gide_X_train_SOMTE bord_uni XGB_corr.csv',index_col = 'Unnamed: 0')\n",
    "print(X_train_uni.shape)\n",
    "X_train_uni.head()"
   ]
  },
  {
   "cell_type": "code",
   "execution_count": 34,
   "metadata": {},
   "outputs": [],
   "source": [
    "X_train =X_train_uni"
   ]
  },
  {
   "cell_type": "code",
   "execution_count": 35,
   "metadata": {
    "scrolled": false
   },
   "outputs": [
    {
     "data": {
      "text/html": [
       "<div>\n",
       "<style scoped>\n",
       "    .dataframe tbody tr th:only-of-type {\n",
       "        vertical-align: middle;\n",
       "    }\n",
       "\n",
       "    .dataframe tbody tr th {\n",
       "        vertical-align: top;\n",
       "    }\n",
       "\n",
       "    .dataframe thead th {\n",
       "        text-align: right;\n",
       "    }\n",
       "</style>\n",
       "<table border=\"1\" class=\"dataframe\">\n",
       "  <thead>\n",
       "    <tr style=\"text-align: right;\">\n",
       "      <th></th>\n",
       "      <th>MRPL20</th>\n",
       "      <th>PLCH2</th>\n",
       "      <th>CEP104</th>\n",
       "      <th>VAMP3</th>\n",
       "      <th>PIK3CD</th>\n",
       "      <th>PIK3CD-AS1</th>\n",
       "      <th>CTNNBIP1</th>\n",
       "      <th>DFFA</th>\n",
       "      <th>TMEM51-AS1</th>\n",
       "      <th>PADI3</th>\n",
       "      <th>...</th>\n",
       "      <th>PAK3</th>\n",
       "      <th>MCTS1</th>\n",
       "      <th>ZNF449</th>\n",
       "      <th>ADGRG4</th>\n",
       "      <th>FGF13</th>\n",
       "      <th>SPANXB1</th>\n",
       "      <th>GPR50</th>\n",
       "      <th>DDX3Y</th>\n",
       "      <th>LINC01238</th>\n",
       "      <th>PLA2G2C</th>\n",
       "    </tr>\n",
       "  </thead>\n",
       "  <tbody>\n",
       "    <tr>\n",
       "      <th>2</th>\n",
       "      <td>7.218077</td>\n",
       "      <td>2.293300</td>\n",
       "      <td>4.915940</td>\n",
       "      <td>6.239549</td>\n",
       "      <td>5.017539</td>\n",
       "      <td>6.953420</td>\n",
       "      <td>0.724536</td>\n",
       "      <td>5.186254</td>\n",
       "      <td>0.977094</td>\n",
       "      <td>0.000000</td>\n",
       "      <td>...</td>\n",
       "      <td>0.067190</td>\n",
       "      <td>4.418221</td>\n",
       "      <td>4.760017</td>\n",
       "      <td>0.000000</td>\n",
       "      <td>0.208344</td>\n",
       "      <td>0.000000</td>\n",
       "      <td>0.0</td>\n",
       "      <td>8.503465</td>\n",
       "      <td>0.000000</td>\n",
       "      <td>0.000000</td>\n",
       "    </tr>\n",
       "    <tr>\n",
       "      <th>13</th>\n",
       "      <td>7.701680</td>\n",
       "      <td>1.346181</td>\n",
       "      <td>6.306751</td>\n",
       "      <td>6.384332</td>\n",
       "      <td>5.106100</td>\n",
       "      <td>5.979453</td>\n",
       "      <td>2.051514</td>\n",
       "      <td>5.993600</td>\n",
       "      <td>1.451240</td>\n",
       "      <td>0.000000</td>\n",
       "      <td>...</td>\n",
       "      <td>0.705292</td>\n",
       "      <td>5.000908</td>\n",
       "      <td>5.341430</td>\n",
       "      <td>0.253917</td>\n",
       "      <td>0.102159</td>\n",
       "      <td>0.000000</td>\n",
       "      <td>0.0</td>\n",
       "      <td>8.616417</td>\n",
       "      <td>0.000000</td>\n",
       "      <td>1.024800</td>\n",
       "    </tr>\n",
       "    <tr>\n",
       "      <th>53</th>\n",
       "      <td>7.399529</td>\n",
       "      <td>2.436839</td>\n",
       "      <td>5.906438</td>\n",
       "      <td>5.848469</td>\n",
       "      <td>5.699680</td>\n",
       "      <td>6.801373</td>\n",
       "      <td>3.114382</td>\n",
       "      <td>5.954255</td>\n",
       "      <td>2.461485</td>\n",
       "      <td>0.000000</td>\n",
       "      <td>...</td>\n",
       "      <td>0.462820</td>\n",
       "      <td>4.764817</td>\n",
       "      <td>5.292321</td>\n",
       "      <td>0.198839</td>\n",
       "      <td>0.098196</td>\n",
       "      <td>0.000000</td>\n",
       "      <td>0.0</td>\n",
       "      <td>8.314458</td>\n",
       "      <td>0.000000</td>\n",
       "      <td>2.062846</td>\n",
       "    </tr>\n",
       "    <tr>\n",
       "      <th>41</th>\n",
       "      <td>7.166596</td>\n",
       "      <td>1.919200</td>\n",
       "      <td>4.380314</td>\n",
       "      <td>5.481264</td>\n",
       "      <td>4.155765</td>\n",
       "      <td>0.000000</td>\n",
       "      <td>2.317842</td>\n",
       "      <td>4.958538</td>\n",
       "      <td>0.951823</td>\n",
       "      <td>0.000000</td>\n",
       "      <td>...</td>\n",
       "      <td>0.833379</td>\n",
       "      <td>3.943569</td>\n",
       "      <td>3.836622</td>\n",
       "      <td>0.000000</td>\n",
       "      <td>0.401814</td>\n",
       "      <td>0.000000</td>\n",
       "      <td>0.0</td>\n",
       "      <td>5.582638</td>\n",
       "      <td>1.572735</td>\n",
       "      <td>0.000000</td>\n",
       "    </tr>\n",
       "    <tr>\n",
       "      <th>66</th>\n",
       "      <td>7.523935</td>\n",
       "      <td>2.680563</td>\n",
       "      <td>5.882695</td>\n",
       "      <td>6.348137</td>\n",
       "      <td>6.085321</td>\n",
       "      <td>7.512046</td>\n",
       "      <td>1.727732</td>\n",
       "      <td>5.812483</td>\n",
       "      <td>2.205740</td>\n",
       "      <td>0.515895</td>\n",
       "      <td>...</td>\n",
       "      <td>0.565798</td>\n",
       "      <td>4.631293</td>\n",
       "      <td>5.543352</td>\n",
       "      <td>0.000000</td>\n",
       "      <td>0.718821</td>\n",
       "      <td>2.961867</td>\n",
       "      <td>0.0</td>\n",
       "      <td>0.000000</td>\n",
       "      <td>1.101279</td>\n",
       "      <td>0.552874</td>\n",
       "    </tr>\n",
       "  </tbody>\n",
       "</table>\n",
       "<p>5 rows × 1141 columns</p>\n",
       "</div>"
      ],
      "text/plain": [
       "      MRPL20     PLCH2    CEP104     VAMP3    PIK3CD  PIK3CD-AS1  CTNNBIP1  \\\n",
       "2   7.218077  2.293300  4.915940  6.239549  5.017539    6.953420  0.724536   \n",
       "13  7.701680  1.346181  6.306751  6.384332  5.106100    5.979453  2.051514   \n",
       "53  7.399529  2.436839  5.906438  5.848469  5.699680    6.801373  3.114382   \n",
       "41  7.166596  1.919200  4.380314  5.481264  4.155765    0.000000  2.317842   \n",
       "66  7.523935  2.680563  5.882695  6.348137  6.085321    7.512046  1.727732   \n",
       "\n",
       "        DFFA  TMEM51-AS1     PADI3  ...      PAK3     MCTS1    ZNF449  \\\n",
       "2   5.186254    0.977094  0.000000  ...  0.067190  4.418221  4.760017   \n",
       "13  5.993600    1.451240  0.000000  ...  0.705292  5.000908  5.341430   \n",
       "53  5.954255    2.461485  0.000000  ...  0.462820  4.764817  5.292321   \n",
       "41  4.958538    0.951823  0.000000  ...  0.833379  3.943569  3.836622   \n",
       "66  5.812483    2.205740  0.515895  ...  0.565798  4.631293  5.543352   \n",
       "\n",
       "      ADGRG4     FGF13   SPANXB1  GPR50     DDX3Y  LINC01238   PLA2G2C  \n",
       "2   0.000000  0.208344  0.000000    0.0  8.503465   0.000000  0.000000  \n",
       "13  0.253917  0.102159  0.000000    0.0  8.616417   0.000000  1.024800  \n",
       "53  0.198839  0.098196  0.000000    0.0  8.314458   0.000000  2.062846  \n",
       "41  0.000000  0.401814  0.000000    0.0  5.582638   1.572735  0.000000  \n",
       "66  0.000000  0.718821  2.961867    0.0  0.000000   1.101279  0.552874  \n",
       "\n",
       "[5 rows x 1141 columns]"
      ]
     },
     "execution_count": 35,
     "metadata": {},
     "output_type": "execute_result"
    }
   ],
   "source": [
    "X_test = pd.DataFrame(X_test_original,index= X_test_original.index, columns=X_train_uni.columns)\n",
    "X_test.head()"
   ]
  },
  {
   "cell_type": "code",
   "execution_count": 36,
   "metadata": {},
   "outputs": [
    {
     "data": {
      "text/plain": [
       "Index(['MRPL20', 'PLCH2', 'CEP104', 'VAMP3', 'PIK3CD', 'PIK3CD-AS1',\n",
       "       'CTNNBIP1', 'DFFA', 'TMEM51-AS1', 'PADI3',\n",
       "       ...\n",
       "       'PAK3', 'MCTS1', 'ZNF449', 'ADGRG4', 'FGF13', 'SPANXB1', 'GPR50',\n",
       "       'DDX3Y', 'LINC01238', 'PLA2G2C'],\n",
       "      dtype='object', length=1141)"
      ]
     },
     "execution_count": 36,
     "metadata": {},
     "output_type": "execute_result"
    }
   ],
   "source": [
    "X_train.columns"
   ]
  },
  {
   "cell_type": "code",
   "execution_count": 24,
   "metadata": {},
   "outputs": [
    {
     "data": {
      "text/plain": [
       "Index(['PIK3CD', 'CSF3R', 'IL12RB2', 'RFX5', 'ADAR', 'SH2D1B', 'XCL2', 'XCL1',\n",
       "       'ADIPOR1', 'CTSE',\n",
       "       ...\n",
       "       'PROCR', 'PLTP', 'MX1', 'TMPRSS6', 'APOBEC3H', 'ADM2', 'IL3RA', 'CXCR3',\n",
       "       'PAK3', 'FGF13'],\n",
       "      dtype='object', length=167)"
      ]
     },
     "execution_count": 24,
     "metadata": {},
     "output_type": "execute_result"
    }
   ],
   "source": [
    "IRG_feat=X_train.columns.intersection(IRG['Symbol'])\n",
    "IRG_feat"
   ]
  },
  {
   "cell_type": "code",
   "execution_count": null,
   "metadata": {},
   "outputs": [],
   "source": []
  },
  {
   "cell_type": "markdown",
   "metadata": {},
   "source": [
    "# relieff"
   ]
  },
  {
   "cell_type": "code",
   "execution_count": 12,
   "metadata": {},
   "outputs": [
    {
     "data": {
      "text/plain": [
       "((63, 1141), (27, 1141))"
      ]
     },
     "execution_count": 12,
     "metadata": {},
     "output_type": "execute_result"
    }
   ],
   "source": [
    "X_train.shape, X_test.shape"
   ]
  },
  {
   "cell_type": "code",
   "execution_count": 13,
   "metadata": {},
   "outputs": [
    {
     "data": {
      "text/html": [
       "<style>#sk-container-id-1 {color: black;background-color: white;}#sk-container-id-1 pre{padding: 0;}#sk-container-id-1 div.sk-toggleable {background-color: white;}#sk-container-id-1 label.sk-toggleable__label {cursor: pointer;display: block;width: 100%;margin-bottom: 0;padding: 0.3em;box-sizing: border-box;text-align: center;}#sk-container-id-1 label.sk-toggleable__label-arrow:before {content: \"▸\";float: left;margin-right: 0.25em;color: #696969;}#sk-container-id-1 label.sk-toggleable__label-arrow:hover:before {color: black;}#sk-container-id-1 div.sk-estimator:hover label.sk-toggleable__label-arrow:before {color: black;}#sk-container-id-1 div.sk-toggleable__content {max-height: 0;max-width: 0;overflow: hidden;text-align: left;background-color: #f0f8ff;}#sk-container-id-1 div.sk-toggleable__content pre {margin: 0.2em;color: black;border-radius: 0.25em;background-color: #f0f8ff;}#sk-container-id-1 input.sk-toggleable__control:checked~div.sk-toggleable__content {max-height: 200px;max-width: 100%;overflow: auto;}#sk-container-id-1 input.sk-toggleable__control:checked~label.sk-toggleable__label-arrow:before {content: \"▾\";}#sk-container-id-1 div.sk-estimator input.sk-toggleable__control:checked~label.sk-toggleable__label {background-color: #d4ebff;}#sk-container-id-1 div.sk-label input.sk-toggleable__control:checked~label.sk-toggleable__label {background-color: #d4ebff;}#sk-container-id-1 input.sk-hidden--visually {border: 0;clip: rect(1px 1px 1px 1px);clip: rect(1px, 1px, 1px, 1px);height: 1px;margin: -1px;overflow: hidden;padding: 0;position: absolute;width: 1px;}#sk-container-id-1 div.sk-estimator {font-family: monospace;background-color: #f0f8ff;border: 1px dotted black;border-radius: 0.25em;box-sizing: border-box;margin-bottom: 0.5em;}#sk-container-id-1 div.sk-estimator:hover {background-color: #d4ebff;}#sk-container-id-1 div.sk-parallel-item::after {content: \"\";width: 100%;border-bottom: 1px solid gray;flex-grow: 1;}#sk-container-id-1 div.sk-label:hover label.sk-toggleable__label {background-color: #d4ebff;}#sk-container-id-1 div.sk-serial::before {content: \"\";position: absolute;border-left: 1px solid gray;box-sizing: border-box;top: 0;bottom: 0;left: 50%;z-index: 0;}#sk-container-id-1 div.sk-serial {display: flex;flex-direction: column;align-items: center;background-color: white;padding-right: 0.2em;padding-left: 0.2em;position: relative;}#sk-container-id-1 div.sk-item {position: relative;z-index: 1;}#sk-container-id-1 div.sk-parallel {display: flex;align-items: stretch;justify-content: center;background-color: white;position: relative;}#sk-container-id-1 div.sk-item::before, #sk-container-id-1 div.sk-parallel-item::before {content: \"\";position: absolute;border-left: 1px solid gray;box-sizing: border-box;top: 0;bottom: 0;left: 50%;z-index: -1;}#sk-container-id-1 div.sk-parallel-item {display: flex;flex-direction: column;z-index: 1;position: relative;background-color: white;}#sk-container-id-1 div.sk-parallel-item:first-child::after {align-self: flex-end;width: 50%;}#sk-container-id-1 div.sk-parallel-item:last-child::after {align-self: flex-start;width: 50%;}#sk-container-id-1 div.sk-parallel-item:only-child::after {width: 0;}#sk-container-id-1 div.sk-dashed-wrapped {border: 1px dashed gray;margin: 0 0.4em 0.5em 0.4em;box-sizing: border-box;padding-bottom: 0.4em;background-color: white;}#sk-container-id-1 div.sk-label label {font-family: monospace;font-weight: bold;display: inline-block;line-height: 1.2em;}#sk-container-id-1 div.sk-label-container {text-align: center;}#sk-container-id-1 div.sk-container {/* jupyter's `normalize.less` sets `[hidden] { display: none; }` but bootstrap.min.css set `[hidden] { display: none !important; }` so we also need the `!important` here to be able to override the default hidden behavior on the sphinx rendered scikit-learn.org. See: https://github.com/scikit-learn/scikit-learn/issues/21755 */display: inline-block !important;position: relative;}#sk-container-id-1 div.sk-text-repr-fallback {display: none;}</style><div id=\"sk-container-id-1\" class=\"sk-top-container\"><div class=\"sk-text-repr-fallback\"><pre>ReliefF()</pre><b>In a Jupyter environment, please rerun this cell to show the HTML representation or trust the notebook. <br />On GitHub, the HTML representation is unable to render, please try loading this page with nbviewer.org.</b></div><div class=\"sk-container\" hidden><div class=\"sk-item\"><div class=\"sk-estimator sk-toggleable\"><input class=\"sk-toggleable__control sk-hidden--visually\" id=\"sk-estimator-id-1\" type=\"checkbox\" checked><label for=\"sk-estimator-id-1\" class=\"sk-toggleable__label sk-toggleable__label-arrow\">ReliefF</label><div class=\"sk-toggleable__content\"><pre>ReliefF()</pre></div></div></div></div></div>"
      ],
      "text/plain": [
       "ReliefF()"
      ]
     },
     "execution_count": 13,
     "metadata": {},
     "output_type": "execute_result"
    }
   ],
   "source": [
    "from skrebate import ReliefF\n",
    "fs = ReliefF()\n",
    "fs.fit(X_train.values, y_train.values)\n"
   ]
  },
  {
   "cell_type": "code",
   "execution_count": null,
   "metadata": {},
   "outputs": [],
   "source": [
    "from sklearn.ensemble import VotingClassifier\n",
    "accuracy_rate = []\n",
    "clf1 = ExtraTreesClassifier()\n",
    "clf2 = LogisticRegression(penalty ='l2', C=0.1, solver='liblinear', random_state=4,max_iter = 1000)\n",
    "clf3 = SVC(gamma =1e-05, probability = True, decision_function_shape = 'ovo', kernel = 'linear')\n",
    "clf4 = AdaBoostClassifier()\n",
    "clf5= XGBClassifier()\n",
    "\n",
    "\n",
    "# Will take some time\n",
    "for i in range(5,300,5):\n",
    "    \n",
    "    indx_sort=fs.feature_importances_.argsort()[-i:][::-1]\n",
    "    X_train_rf= X_train.iloc[:,indx_sort]\n",
    "    X_test_rf= X_test.iloc[:,indx_sort]\n",
    "    \n",
    "    eclf1 = VotingClassifier(estimators=[ ('logistic', clf2),('SVM', clf3),\n",
    "                                           ('XGB', clf5), \n",
    "                                          ('extratree',clf1), ('AdaBoost', clf4)\n",
    "                                        ], voting='hard') \n",
    "    \n",
    "   \n",
    "    print(i)\n",
    "    \n",
    "    \n",
    "    for clf in (clf1,clf2, clf3, clf4, clf5, eclf1):\n",
    "        clf.fit(X_train_rf, y_train)\n",
    "        y_pred = clf.predict(X_test_rf)\n",
    "        print(clf.__class__.__name__, round(accuracy_score(y_test, y_pred),3))\n",
    "        \n",
    "  \n",
    "    # Number of iterations\n",
    "    num_iterations = 3\n",
    "\n",
    "    # Initialize a list to store accuracy scores\n",
    "    ensemble_scores = []\n",
    "\n",
    "    # Perform multiple iterations of the VotingClassifier\n",
    "    for _ in range(num_iterations):\n",
    "        eclf1.fit(X_train_rf, y_train)\n",
    "        predictions = eclf1.predict(X_test_rf)\n",
    "        ensemble_acc = accuracy_score(y_test, predictions)\n",
    "        ensemble_scores.append(ensemble_acc)\n",
    "\n",
    "    print(\"Ensemble Voting Accuracy:\", ensemble_scores)\n",
    "    \n",
    "    # Calculate the mean accuracy of the ensemble\n",
    "    mean_ensemble_accuracy = np.mean(ensemble_scores)\n",
    "    print(\"Mean Ensemble Voting Accuracy:\", mean_ensemble_accuracy)\n",
    "\n",
    "    print(X_train_rf.columns)\n",
    "    accuracy_rate.append(mean_ensemble_accuracy)\n",
    "    "
   ]
  },
  {
   "cell_type": "code",
   "execution_count": null,
   "metadata": {},
   "outputs": [],
   "source": [
    "accuracy_rate"
   ]
  },
  {
   "cell_type": "code",
   "execution_count": null,
   "metadata": {},
   "outputs": [],
   "source": [
    "accuracy_plot = pd.DataFrame()\n",
    "accuracy_plot['ReliefF_accuracy'] = accuracy_rate"
   ]
  },
  {
   "cell_type": "code",
   "execution_count": null,
   "metadata": {},
   "outputs": [],
   "source": [
    "plt.figure(figsize=(20,6))\n",
    "plt.plot(range(5,300,5),accuracy_rate,color='blue', linestyle='solid', marker='o',\n",
    "         markerfacecolor='blue', markersize=10)\n",
    "\n",
    "title =plt.title('ReliefF Accuracy vs. No. of Genes', fontsize=20)\n",
    "plt.xlabel('No. of Genes', fontsize=16)\n",
    "plt.ylabel('ReliefF Accuracy', fontsize=16)\n"
   ]
  },
  {
   "cell_type": "code",
   "execution_count": 14,
   "metadata": {},
   "outputs": [
    {
     "data": {
      "text/plain": [
       "array([ 435,  741,  744,  729,  761,  735,  725,  670,  437,  754, 1126,\n",
       "        792,  730,  723,  443,  756, 1073,  340,  727,  721,  442,  726,\n",
       "        434,  426,  436,  926,  438,  742,  753,  431,  732,  733,  719,\n",
       "        728,  253,  743,  441,  949,  610,  734,  736,  388,  344,  439,\n",
       "        715,  389,  158,  354, 1031,   81,  429,  748,  738,  750,  430,\n",
       "        717,  522, 1021,  561,  206,  774,  751,  502,  714,  638,  680,\n",
       "        440, 1060,  602,  593,   79,  390,  647,  325,  433,  830,  634,\n",
       "        604,   80,  787, 1022,  755,  606,  428,  927,  762,  838,  901,\n",
       "        222,  368,  162, 1042,  533,  791,  731], dtype=int64)"
      ]
     },
     "execution_count": 14,
     "metadata": {},
     "output_type": "execute_result"
    }
   ],
   "source": [
    "indx_sort=fs.feature_importances_.argsort()[-95:][::-1]\n",
    "indx_sort"
   ]
  },
  {
   "cell_type": "code",
   "execution_count": 15,
   "metadata": {},
   "outputs": [
    {
     "data": {
      "text/plain": [
       "(63, 95)"
      ]
     },
     "execution_count": 15,
     "metadata": {},
     "output_type": "execute_result"
    }
   ],
   "source": [
    "X_train_rf= X_train.iloc[:,indx_sort]\n",
    "X_train_rf.shape"
   ]
  },
  {
   "cell_type": "code",
   "execution_count": 16,
   "metadata": {},
   "outputs": [
    {
     "data": {
      "text/plain": [
       "(27, 95)"
      ]
     },
     "execution_count": 16,
     "metadata": {},
     "output_type": "execute_result"
    }
   ],
   "source": [
    "X_test_rf= X_test.iloc[:,indx_sort]\n",
    "X_test_rf.shape"
   ]
  },
  {
   "cell_type": "code",
   "execution_count": 17,
   "metadata": {},
   "outputs": [
    {
     "data": {
      "text/plain": [
       "Index(['TRBV7-6', 'TRAJ52', 'TRAJ47', 'TRAV24', 'TRAJ7', 'TRAV38-1', 'TRAV20',\n",
       "       'IFNG', 'TRBV6-8', 'TRAJ28', 'CXCR3', 'LINC02312', 'TRAV25', 'TRAV16',\n",
       "       'TRBV27', 'TRAJ24', 'TMPRSS3', 'UBD', 'TRAV22', 'TRAV13-2', 'TRBV24-1',\n",
       "       'TRAV21', 'TRBV5-5', 'TRBV3-1', 'TRBV5-6', 'TBX21', 'TRBV5-7', 'TRAJ50',\n",
       "       'TRAJ29', 'TRBV6-5', 'TRAV29DV5', 'TRAV30', 'TRAV8-2', 'TRAV23DV6',\n",
       "       'CXCL11', 'TRAJ49', 'TRBV23-1', 'CD7', 'P2RY6', 'TRAV26-2',\n",
       "       'TRAV38-2DV8', 'AOAH-IT1', 'HLA-A', 'TRBV7-9', 'TRAV5', 'TRGJ2', 'ICOS',\n",
       "       'PTCRA', 'NCR1', 'SLAMF7', 'TRBV9', 'TRAJ35', 'TRAV41', 'TRAJ32',\n",
       "       'TRBV11-2', 'TRAV10', 'DBH-AS1', 'NKG7', 'IFITM1', 'DTX3L', 'GCH1',\n",
       "       'TRAJ31', 'SHC3', 'TRAV3', 'KLRC4', 'OAS2', 'TRBV10-3', 'ZNF831',\n",
       "       'BATF2', 'SMTNL1', 'SLAMF6', 'TRGJ1', 'CNTN1', 'ZNF354C', 'TRBV6-6',\n",
       "       'HAPLN3', 'CD27', 'CTSW', 'SLAMF1', 'BATF', 'SIGLEC8', 'TRAJ27',\n",
       "       'GPR152', 'TRBV7-3', 'SKAP1', 'TRAJ1', 'SYNGR3', 'TBC1D28', 'LAMP3',\n",
       "       'TNFAIP3', 'WNT10A', 'HM13-AS1', 'IL15RA', 'CCDC88C', 'TRAV26-1'],\n",
       "      dtype='object')"
      ]
     },
     "execution_count": 17,
     "metadata": {},
     "output_type": "execute_result"
    }
   ],
   "source": [
    "X_train_rf.columns"
   ]
  },
  {
   "cell_type": "code",
   "execution_count": null,
   "metadata": {},
   "outputs": [],
   "source": [
    "IRG_feat=X_train_rf.columns.intersection(IRG['Symbol'])\n",
    "IRG_feat"
   ]
  },
  {
   "cell_type": "code",
   "execution_count": 18,
   "metadata": {},
   "outputs": [],
   "source": [
    "X_train = X_train_rf\n",
    "X_test= X_test_rf\n"
   ]
  },
  {
   "cell_type": "code",
   "execution_count": 19,
   "metadata": {},
   "outputs": [],
   "source": [
    "#save a copy of reliefF result for the following experiment \n",
    "X_train.to_csv('gide_X_train_reliefF.csv')\n",
    "X_test.to_csv('gide_X_test_reliefF.csv')"
   ]
  },
  {
   "cell_type": "markdown",
   "metadata": {},
   "source": [
    "# Mutual information"
   ]
  },
  {
   "cell_type": "code",
   "execution_count": null,
   "metadata": {},
   "outputs": [],
   "source": [
    "# use of the data selected by Univariate ROC-AUC Performance\n",
    "X_train = X_train_uni\n",
    "X_test = X_test_uni"
   ]
  },
  {
   "cell_type": "code",
   "execution_count": null,
   "metadata": {},
   "outputs": [],
   "source": [
    "# ensure the sizes of X_train and X_test.\n",
    "X_train.shape, X_test.shape"
   ]
  },
  {
   "cell_type": "code",
   "execution_count": null,
   "metadata": {},
   "outputs": [],
   "source": [
    "# to obtain the mutual information values\n",
    "from sklearn.feature_selection import mutual_info_classif, mutual_info_regression\n",
    "\n",
    "# to select the features\n",
    "from sklearn.feature_selection import SelectKBest, SelectPercentile"
   ]
  },
  {
   "cell_type": "code",
   "execution_count": null,
   "metadata": {},
   "outputs": [],
   "source": [
    "from sklearn.ensemble import VotingClassifier\n",
    "accuracy_rate = []\n",
    "clf1 = ExtraTreesClassifier()\n",
    "clf2 = LogisticRegression(penalty ='l2', C=0.1, solver='liblinear', random_state=4,max_iter = 1000)\n",
    "clf3 = SVC(gamma =1e-05, probability = True, decision_function_shape = 'ovo', kernel = 'linear')\n",
    "clf4 = AdaBoostClassifier()\n",
    "clf5= XGBClassifier()\n",
    "\n",
    "# Will take some time\n",
    "for i in range(5,300,5):\n",
    "    \n",
    "    sel_ = SelectKBest(mutual_info_classif, k=i).fit(X_train, y_train)\n",
    "    # display features\n",
    "    best_feature=X_train.columns[sel_.get_support()]\n",
    "    X_train_m = sel_.transform(X_train)\n",
    "    X_test_m = sel_.transform(X_test)\n",
    "    X_train_m = pd.DataFrame(X_train_m,index= X_train_original.index, columns=best_feature)\n",
    "    X_test_m = pd.DataFrame(X_test_m,index= X_test_original.index, columns=best_feature)\n",
    "   \n",
    "    \n",
    "    eclf1 = VotingClassifier(estimators=[ ('logistic', clf2),('SVM', clf3),\n",
    "                                           ('XGB', clf5), \n",
    "                                          ('extratree',clf1), ('AdaBoost', clf4)\n",
    "                                        ], voting='hard')    \n",
    "    print(i)\n",
    "    \n",
    "    for clf in (clf1,clf2, clf3, clf4, clf5, eclf1):\n",
    "        clf.fit(X_train_m, y_train)\n",
    "        y_pred = clf.predict(X_test_m)\n",
    "        #df_test[clf.__class__.__name__] = y_pred\n",
    "        print(clf.__class__.__name__, round(accuracy_score(y_test, y_pred),3))\n",
    "    \n",
    "    # Number of iterations\n",
    "    num_iterations = 3\n",
    "\n",
    "    # Initialize a list to store accuracy scores\n",
    "    ensemble_scores = []\n",
    "\n",
    "    # Perform multiple iterations of the VotingClassifier\n",
    "    for _ in range(num_iterations):\n",
    "        eclf1.fit(X_train_m, y_train)\n",
    "        predictions = eclf1.predict(X_test_m)\n",
    "        ensemble_acc = accuracy_score(y_test, predictions)\n",
    "        ensemble_scores.append(ensemble_acc)\n",
    "\n",
    "    print(\"Ensemble Voting Accuracy:\", ensemble_scores)\n",
    "    \n",
    "    # Calculate the mean accuracy of the ensemble\n",
    "    mean_ensemble_accuracy = np.mean(ensemble_scores)\n",
    "    print(\"Mean Ensemble Voting Accuracy:\", mean_ensemble_accuracy)\n",
    "\n",
    "    print(X_train_m.columns)\n",
    "    accuracy_rate.append(mean_ensemble_accuracy)"
   ]
  },
  {
   "cell_type": "code",
   "execution_count": null,
   "metadata": {},
   "outputs": [],
   "source": [
    "accuracy_rate"
   ]
  },
  {
   "cell_type": "code",
   "execution_count": null,
   "metadata": {},
   "outputs": [],
   "source": [
    "plt.figure(figsize=(20,6))\n",
    "plt.plot(range(5,300,5),accuracy_rate,color='blue', linestyle='dashed', marker='o',\n",
    "         markerfacecolor='red', markersize=10)\n",
    "plt.title('Mutual Info Accuracy vs. No. of Genes')\n",
    "plt.xlabel('No. of Genes')\n",
    "plt.ylabel('Mutual Info')"
   ]
  },
  {
   "cell_type": "code",
   "execution_count": null,
   "metadata": {},
   "outputs": [],
   "source": [
    "ccuracy_plot = pd.DataFrame()\n",
    "accuracy_plot['Mutual info'] = accuracy_rate"
   ]
  },
  {
   "cell_type": "code",
   "execution_count": null,
   "metadata": {},
   "outputs": [],
   "source": []
  },
  {
   "cell_type": "markdown",
   "metadata": {},
   "source": [
    "# lasso"
   ]
  },
  {
   "cell_type": "code",
   "execution_count": null,
   "metadata": {},
   "outputs": [],
   "source": [
    "# use of the data selected by Univariate ROC-AUC Performance\n",
    "X_train = X_train_uni\n",
    "X_test = X_test_uni"
   ]
  },
  {
   "cell_type": "code",
   "execution_count": 38,
   "metadata": {},
   "outputs": [
    {
     "data": {
      "text/plain": [
       "((63, 1141), (27, 1141))"
      ]
     },
     "execution_count": 38,
     "metadata": {},
     "output_type": "execute_result"
    }
   ],
   "source": [
    "# ensure the sizes of X_train and X_test.\n",
    "X_train.shape, X_test.shape"
   ]
  },
  {
   "cell_type": "code",
   "execution_count": 39,
   "metadata": {},
   "outputs": [
    {
     "data": {
      "text/html": [
       "<div>\n",
       "<style scoped>\n",
       "    .dataframe tbody tr th:only-of-type {\n",
       "        vertical-align: middle;\n",
       "    }\n",
       "\n",
       "    .dataframe tbody tr th {\n",
       "        vertical-align: top;\n",
       "    }\n",
       "\n",
       "    .dataframe thead th {\n",
       "        text-align: right;\n",
       "    }\n",
       "</style>\n",
       "<table border=\"1\" class=\"dataframe\">\n",
       "  <thead>\n",
       "    <tr style=\"text-align: right;\">\n",
       "      <th></th>\n",
       "      <th>MRPL20</th>\n",
       "      <th>PLCH2</th>\n",
       "      <th>CEP104</th>\n",
       "      <th>VAMP3</th>\n",
       "      <th>PIK3CD</th>\n",
       "      <th>PIK3CD-AS1</th>\n",
       "      <th>CTNNBIP1</th>\n",
       "      <th>DFFA</th>\n",
       "      <th>TMEM51-AS1</th>\n",
       "      <th>PADI3</th>\n",
       "      <th>...</th>\n",
       "      <th>PAK3</th>\n",
       "      <th>MCTS1</th>\n",
       "      <th>ZNF449</th>\n",
       "      <th>ADGRG4</th>\n",
       "      <th>FGF13</th>\n",
       "      <th>SPANXB1</th>\n",
       "      <th>GPR50</th>\n",
       "      <th>DDX3Y</th>\n",
       "      <th>LINC01238</th>\n",
       "      <th>PLA2G2C</th>\n",
       "    </tr>\n",
       "  </thead>\n",
       "  <tbody>\n",
       "    <tr>\n",
       "      <th>79</th>\n",
       "      <td>7.570243</td>\n",
       "      <td>1.821964</td>\n",
       "      <td>5.856766</td>\n",
       "      <td>5.932988</td>\n",
       "      <td>5.742181</td>\n",
       "      <td>5.034410</td>\n",
       "      <td>1.973813</td>\n",
       "      <td>5.702246</td>\n",
       "      <td>0.973665</td>\n",
       "      <td>0.042752</td>\n",
       "      <td>...</td>\n",
       "      <td>0.151941</td>\n",
       "      <td>5.211416</td>\n",
       "      <td>5.415581</td>\n",
       "      <td>0.082789</td>\n",
       "      <td>0.137672</td>\n",
       "      <td>4.049688</td>\n",
       "      <td>0.0</td>\n",
       "      <td>8.110795</td>\n",
       "      <td>0.253986</td>\n",
       "      <td>0.274204</td>\n",
       "    </tr>\n",
       "    <tr>\n",
       "      <th>82</th>\n",
       "      <td>7.093483</td>\n",
       "      <td>1.173003</td>\n",
       "      <td>5.383863</td>\n",
       "      <td>5.930621</td>\n",
       "      <td>5.519404</td>\n",
       "      <td>5.176408</td>\n",
       "      <td>1.545476</td>\n",
       "      <td>5.867246</td>\n",
       "      <td>1.028031</td>\n",
       "      <td>1.085278</td>\n",
       "      <td>...</td>\n",
       "      <td>0.593874</td>\n",
       "      <td>4.935200</td>\n",
       "      <td>5.107300</td>\n",
       "      <td>0.152173</td>\n",
       "      <td>0.153646</td>\n",
       "      <td>2.556665</td>\n",
       "      <td>0.0</td>\n",
       "      <td>8.199987</td>\n",
       "      <td>0.171713</td>\n",
       "      <td>0.000000</td>\n",
       "    </tr>\n",
       "    <tr>\n",
       "      <th>3</th>\n",
       "      <td>7.192808</td>\n",
       "      <td>5.522151</td>\n",
       "      <td>5.474071</td>\n",
       "      <td>5.522044</td>\n",
       "      <td>4.459219</td>\n",
       "      <td>6.050044</td>\n",
       "      <td>2.908931</td>\n",
       "      <td>5.054147</td>\n",
       "      <td>1.955722</td>\n",
       "      <td>0.000000</td>\n",
       "      <td>...</td>\n",
       "      <td>0.979523</td>\n",
       "      <td>4.647634</td>\n",
       "      <td>5.297447</td>\n",
       "      <td>0.289800</td>\n",
       "      <td>0.390714</td>\n",
       "      <td>0.000000</td>\n",
       "      <td>0.0</td>\n",
       "      <td>1.632556</td>\n",
       "      <td>1.851140</td>\n",
       "      <td>0.000000</td>\n",
       "    </tr>\n",
       "    <tr>\n",
       "      <th>62</th>\n",
       "      <td>7.382451</td>\n",
       "      <td>2.226904</td>\n",
       "      <td>5.904765</td>\n",
       "      <td>5.805884</td>\n",
       "      <td>5.167068</td>\n",
       "      <td>7.019796</td>\n",
       "      <td>1.433969</td>\n",
       "      <td>5.277627</td>\n",
       "      <td>0.654643</td>\n",
       "      <td>0.000000</td>\n",
       "      <td>...</td>\n",
       "      <td>0.577084</td>\n",
       "      <td>4.519005</td>\n",
       "      <td>5.120259</td>\n",
       "      <td>0.000000</td>\n",
       "      <td>0.387281</td>\n",
       "      <td>2.410704</td>\n",
       "      <td>0.0</td>\n",
       "      <td>0.000000</td>\n",
       "      <td>0.000000</td>\n",
       "      <td>0.000000</td>\n",
       "    </tr>\n",
       "    <tr>\n",
       "      <th>75</th>\n",
       "      <td>7.679880</td>\n",
       "      <td>1.795303</td>\n",
       "      <td>5.313456</td>\n",
       "      <td>5.910707</td>\n",
       "      <td>5.403834</td>\n",
       "      <td>4.078740</td>\n",
       "      <td>2.384913</td>\n",
       "      <td>5.637014</td>\n",
       "      <td>0.933163</td>\n",
       "      <td>0.000000</td>\n",
       "      <td>...</td>\n",
       "      <td>1.028568</td>\n",
       "      <td>4.929844</td>\n",
       "      <td>5.521676</td>\n",
       "      <td>0.275970</td>\n",
       "      <td>0.138589</td>\n",
       "      <td>0.000000</td>\n",
       "      <td>0.0</td>\n",
       "      <td>4.296515</td>\n",
       "      <td>0.794905</td>\n",
       "      <td>0.000000</td>\n",
       "    </tr>\n",
       "  </tbody>\n",
       "</table>\n",
       "<p>5 rows × 1141 columns</p>\n",
       "</div>"
      ],
      "text/plain": [
       "      MRPL20     PLCH2    CEP104     VAMP3    PIK3CD  PIK3CD-AS1  CTNNBIP1  \\\n",
       "79  7.570243  1.821964  5.856766  5.932988  5.742181    5.034410  1.973813   \n",
       "82  7.093483  1.173003  5.383863  5.930621  5.519404    5.176408  1.545476   \n",
       "3   7.192808  5.522151  5.474071  5.522044  4.459219    6.050044  2.908931   \n",
       "62  7.382451  2.226904  5.904765  5.805884  5.167068    7.019796  1.433969   \n",
       "75  7.679880  1.795303  5.313456  5.910707  5.403834    4.078740  2.384913   \n",
       "\n",
       "        DFFA  TMEM51-AS1     PADI3  ...      PAK3     MCTS1    ZNF449  \\\n",
       "79  5.702246    0.973665  0.042752  ...  0.151941  5.211416  5.415581   \n",
       "82  5.867246    1.028031  1.085278  ...  0.593874  4.935200  5.107300   \n",
       "3   5.054147    1.955722  0.000000  ...  0.979523  4.647634  5.297447   \n",
       "62  5.277627    0.654643  0.000000  ...  0.577084  4.519005  5.120259   \n",
       "75  5.637014    0.933163  0.000000  ...  1.028568  4.929844  5.521676   \n",
       "\n",
       "      ADGRG4     FGF13   SPANXB1  GPR50     DDX3Y  LINC01238   PLA2G2C  \n",
       "79  0.082789  0.137672  4.049688    0.0  8.110795   0.253986  0.274204  \n",
       "82  0.152173  0.153646  2.556665    0.0  8.199987   0.171713  0.000000  \n",
       "3   0.289800  0.390714  0.000000    0.0  1.632556   1.851140  0.000000  \n",
       "62  0.000000  0.387281  2.410704    0.0  0.000000   0.000000  0.000000  \n",
       "75  0.275970  0.138589  0.000000    0.0  4.296515   0.794905  0.000000  \n",
       "\n",
       "[5 rows x 1141 columns]"
      ]
     },
     "execution_count": 39,
     "metadata": {},
     "output_type": "execute_result"
    }
   ],
   "source": [
    "X_train_uni.head()"
   ]
  },
  {
   "cell_type": "code",
   "execution_count": 26,
   "metadata": {},
   "outputs": [
    {
     "data": {
      "text/html": [
       "<style>#sk-container-id-2 {color: black;background-color: white;}#sk-container-id-2 pre{padding: 0;}#sk-container-id-2 div.sk-toggleable {background-color: white;}#sk-container-id-2 label.sk-toggleable__label {cursor: pointer;display: block;width: 100%;margin-bottom: 0;padding: 0.3em;box-sizing: border-box;text-align: center;}#sk-container-id-2 label.sk-toggleable__label-arrow:before {content: \"▸\";float: left;margin-right: 0.25em;color: #696969;}#sk-container-id-2 label.sk-toggleable__label-arrow:hover:before {color: black;}#sk-container-id-2 div.sk-estimator:hover label.sk-toggleable__label-arrow:before {color: black;}#sk-container-id-2 div.sk-toggleable__content {max-height: 0;max-width: 0;overflow: hidden;text-align: left;background-color: #f0f8ff;}#sk-container-id-2 div.sk-toggleable__content pre {margin: 0.2em;color: black;border-radius: 0.25em;background-color: #f0f8ff;}#sk-container-id-2 input.sk-toggleable__control:checked~div.sk-toggleable__content {max-height: 200px;max-width: 100%;overflow: auto;}#sk-container-id-2 input.sk-toggleable__control:checked~label.sk-toggleable__label-arrow:before {content: \"▾\";}#sk-container-id-2 div.sk-estimator input.sk-toggleable__control:checked~label.sk-toggleable__label {background-color: #d4ebff;}#sk-container-id-2 div.sk-label input.sk-toggleable__control:checked~label.sk-toggleable__label {background-color: #d4ebff;}#sk-container-id-2 input.sk-hidden--visually {border: 0;clip: rect(1px 1px 1px 1px);clip: rect(1px, 1px, 1px, 1px);height: 1px;margin: -1px;overflow: hidden;padding: 0;position: absolute;width: 1px;}#sk-container-id-2 div.sk-estimator {font-family: monospace;background-color: #f0f8ff;border: 1px dotted black;border-radius: 0.25em;box-sizing: border-box;margin-bottom: 0.5em;}#sk-container-id-2 div.sk-estimator:hover {background-color: #d4ebff;}#sk-container-id-2 div.sk-parallel-item::after {content: \"\";width: 100%;border-bottom: 1px solid gray;flex-grow: 1;}#sk-container-id-2 div.sk-label:hover label.sk-toggleable__label {background-color: #d4ebff;}#sk-container-id-2 div.sk-serial::before {content: \"\";position: absolute;border-left: 1px solid gray;box-sizing: border-box;top: 0;bottom: 0;left: 50%;z-index: 0;}#sk-container-id-2 div.sk-serial {display: flex;flex-direction: column;align-items: center;background-color: white;padding-right: 0.2em;padding-left: 0.2em;position: relative;}#sk-container-id-2 div.sk-item {position: relative;z-index: 1;}#sk-container-id-2 div.sk-parallel {display: flex;align-items: stretch;justify-content: center;background-color: white;position: relative;}#sk-container-id-2 div.sk-item::before, #sk-container-id-2 div.sk-parallel-item::before {content: \"\";position: absolute;border-left: 1px solid gray;box-sizing: border-box;top: 0;bottom: 0;left: 50%;z-index: -1;}#sk-container-id-2 div.sk-parallel-item {display: flex;flex-direction: column;z-index: 1;position: relative;background-color: white;}#sk-container-id-2 div.sk-parallel-item:first-child::after {align-self: flex-end;width: 50%;}#sk-container-id-2 div.sk-parallel-item:last-child::after {align-self: flex-start;width: 50%;}#sk-container-id-2 div.sk-parallel-item:only-child::after {width: 0;}#sk-container-id-2 div.sk-dashed-wrapped {border: 1px dashed gray;margin: 0 0.4em 0.5em 0.4em;box-sizing: border-box;padding-bottom: 0.4em;background-color: white;}#sk-container-id-2 div.sk-label label {font-family: monospace;font-weight: bold;display: inline-block;line-height: 1.2em;}#sk-container-id-2 div.sk-label-container {text-align: center;}#sk-container-id-2 div.sk-container {/* jupyter's `normalize.less` sets `[hidden] { display: none; }` but bootstrap.min.css set `[hidden] { display: none !important; }` so we also need the `!important` here to be able to override the default hidden behavior on the sphinx rendered scikit-learn.org. See: https://github.com/scikit-learn/scikit-learn/issues/21755 */display: inline-block !important;position: relative;}#sk-container-id-2 div.sk-text-repr-fallback {display: none;}</style><div id=\"sk-container-id-2\" class=\"sk-top-container\"><div class=\"sk-text-repr-fallback\"><pre>StandardScaler()</pre><b>In a Jupyter environment, please rerun this cell to show the HTML representation or trust the notebook. <br />On GitHub, the HTML representation is unable to render, please try loading this page with nbviewer.org.</b></div><div class=\"sk-container\" hidden><div class=\"sk-item\"><div class=\"sk-estimator sk-toggleable\"><input class=\"sk-toggleable__control sk-hidden--visually\" id=\"sk-estimator-id-2\" type=\"checkbox\" checked><label for=\"sk-estimator-id-2\" class=\"sk-toggleable__label sk-toggleable__label-arrow\">StandardScaler</label><div class=\"sk-toggleable__content\"><pre>StandardScaler()</pre></div></div></div></div></div>"
      ],
      "text/plain": [
       "StandardScaler()"
      ]
     },
     "execution_count": 26,
     "metadata": {},
     "output_type": "execute_result"
    }
   ],
   "source": [
    "from sklearn.feature_selection import SelectFromModel\n",
    "scaler = StandardScaler()\n",
    "scaler.fit(X_train)"
   ]
  },
  {
   "cell_type": "code",
   "execution_count": 40,
   "metadata": {},
   "outputs": [
    {
     "data": {
      "text/html": [
       "<style>#sk-container-id-4 {color: black;background-color: white;}#sk-container-id-4 pre{padding: 0;}#sk-container-id-4 div.sk-toggleable {background-color: white;}#sk-container-id-4 label.sk-toggleable__label {cursor: pointer;display: block;width: 100%;margin-bottom: 0;padding: 0.3em;box-sizing: border-box;text-align: center;}#sk-container-id-4 label.sk-toggleable__label-arrow:before {content: \"▸\";float: left;margin-right: 0.25em;color: #696969;}#sk-container-id-4 label.sk-toggleable__label-arrow:hover:before {color: black;}#sk-container-id-4 div.sk-estimator:hover label.sk-toggleable__label-arrow:before {color: black;}#sk-container-id-4 div.sk-toggleable__content {max-height: 0;max-width: 0;overflow: hidden;text-align: left;background-color: #f0f8ff;}#sk-container-id-4 div.sk-toggleable__content pre {margin: 0.2em;color: black;border-radius: 0.25em;background-color: #f0f8ff;}#sk-container-id-4 input.sk-toggleable__control:checked~div.sk-toggleable__content {max-height: 200px;max-width: 100%;overflow: auto;}#sk-container-id-4 input.sk-toggleable__control:checked~label.sk-toggleable__label-arrow:before {content: \"▾\";}#sk-container-id-4 div.sk-estimator input.sk-toggleable__control:checked~label.sk-toggleable__label {background-color: #d4ebff;}#sk-container-id-4 div.sk-label input.sk-toggleable__control:checked~label.sk-toggleable__label {background-color: #d4ebff;}#sk-container-id-4 input.sk-hidden--visually {border: 0;clip: rect(1px 1px 1px 1px);clip: rect(1px, 1px, 1px, 1px);height: 1px;margin: -1px;overflow: hidden;padding: 0;position: absolute;width: 1px;}#sk-container-id-4 div.sk-estimator {font-family: monospace;background-color: #f0f8ff;border: 1px dotted black;border-radius: 0.25em;box-sizing: border-box;margin-bottom: 0.5em;}#sk-container-id-4 div.sk-estimator:hover {background-color: #d4ebff;}#sk-container-id-4 div.sk-parallel-item::after {content: \"\";width: 100%;border-bottom: 1px solid gray;flex-grow: 1;}#sk-container-id-4 div.sk-label:hover label.sk-toggleable__label {background-color: #d4ebff;}#sk-container-id-4 div.sk-serial::before {content: \"\";position: absolute;border-left: 1px solid gray;box-sizing: border-box;top: 0;bottom: 0;left: 50%;z-index: 0;}#sk-container-id-4 div.sk-serial {display: flex;flex-direction: column;align-items: center;background-color: white;padding-right: 0.2em;padding-left: 0.2em;position: relative;}#sk-container-id-4 div.sk-item {position: relative;z-index: 1;}#sk-container-id-4 div.sk-parallel {display: flex;align-items: stretch;justify-content: center;background-color: white;position: relative;}#sk-container-id-4 div.sk-item::before, #sk-container-id-4 div.sk-parallel-item::before {content: \"\";position: absolute;border-left: 1px solid gray;box-sizing: border-box;top: 0;bottom: 0;left: 50%;z-index: -1;}#sk-container-id-4 div.sk-parallel-item {display: flex;flex-direction: column;z-index: 1;position: relative;background-color: white;}#sk-container-id-4 div.sk-parallel-item:first-child::after {align-self: flex-end;width: 50%;}#sk-container-id-4 div.sk-parallel-item:last-child::after {align-self: flex-start;width: 50%;}#sk-container-id-4 div.sk-parallel-item:only-child::after {width: 0;}#sk-container-id-4 div.sk-dashed-wrapped {border: 1px dashed gray;margin: 0 0.4em 0.5em 0.4em;box-sizing: border-box;padding-bottom: 0.4em;background-color: white;}#sk-container-id-4 div.sk-label label {font-family: monospace;font-weight: bold;display: inline-block;line-height: 1.2em;}#sk-container-id-4 div.sk-label-container {text-align: center;}#sk-container-id-4 div.sk-container {/* jupyter's `normalize.less` sets `[hidden] { display: none; }` but bootstrap.min.css set `[hidden] { display: none !important; }` so we also need the `!important` here to be able to override the default hidden behavior on the sphinx rendered scikit-learn.org. See: https://github.com/scikit-learn/scikit-learn/issues/21755 */display: inline-block !important;position: relative;}#sk-container-id-4 div.sk-text-repr-fallback {display: none;}</style><div id=\"sk-container-id-4\" class=\"sk-top-container\"><div class=\"sk-text-repr-fallback\"><pre>SelectFromModel(estimator=LogisticRegression(C=0.9, penalty=&#x27;l1&#x27;,\n",
       "                                             random_state=0,\n",
       "                                             solver=&#x27;liblinear&#x27;))</pre><b>In a Jupyter environment, please rerun this cell to show the HTML representation or trust the notebook. <br />On GitHub, the HTML representation is unable to render, please try loading this page with nbviewer.org.</b></div><div class=\"sk-container\" hidden><div class=\"sk-item sk-dashed-wrapped\"><div class=\"sk-label-container\"><div class=\"sk-label sk-toggleable\"><input class=\"sk-toggleable__control sk-hidden--visually\" id=\"sk-estimator-id-6\" type=\"checkbox\" ><label for=\"sk-estimator-id-6\" class=\"sk-toggleable__label sk-toggleable__label-arrow\">SelectFromModel</label><div class=\"sk-toggleable__content\"><pre>SelectFromModel(estimator=LogisticRegression(C=0.9, penalty=&#x27;l1&#x27;,\n",
       "                                             random_state=0,\n",
       "                                             solver=&#x27;liblinear&#x27;))</pre></div></div></div><div class=\"sk-parallel\"><div class=\"sk-parallel-item\"><div class=\"sk-item\"><div class=\"sk-label-container\"><div class=\"sk-label sk-toggleable\"><input class=\"sk-toggleable__control sk-hidden--visually\" id=\"sk-estimator-id-7\" type=\"checkbox\" ><label for=\"sk-estimator-id-7\" class=\"sk-toggleable__label sk-toggleable__label-arrow\">estimator: LogisticRegression</label><div class=\"sk-toggleable__content\"><pre>LogisticRegression(C=0.9, penalty=&#x27;l1&#x27;, random_state=0, solver=&#x27;liblinear&#x27;)</pre></div></div></div><div class=\"sk-serial\"><div class=\"sk-item\"><div class=\"sk-estimator sk-toggleable\"><input class=\"sk-toggleable__control sk-hidden--visually\" id=\"sk-estimator-id-8\" type=\"checkbox\" ><label for=\"sk-estimator-id-8\" class=\"sk-toggleable__label sk-toggleable__label-arrow\">LogisticRegression</label><div class=\"sk-toggleable__content\"><pre>LogisticRegression(C=0.9, penalty=&#x27;l1&#x27;, random_state=0, solver=&#x27;liblinear&#x27;)</pre></div></div></div></div></div></div></div></div></div></div>"
      ],
      "text/plain": [
       "SelectFromModel(estimator=LogisticRegression(C=0.9, penalty='l1',\n",
       "                                             random_state=0,\n",
       "                                             solver='liblinear'))"
      ]
     },
     "execution_count": 40,
     "metadata": {},
     "output_type": "execute_result"
    }
   ],
   "source": [
    "\n",
    "sel_ = SelectFromModel(\n",
    "    LogisticRegression(C=0.9, penalty='l1', solver='liblinear', random_state=0))\n",
    "\n",
    "sel_.fit((X_train), y_train)"
   ]
  },
  {
   "cell_type": "code",
   "execution_count": 41,
   "metadata": {},
   "outputs": [
    {
     "data": {
      "text/plain": [
       "1114"
      ]
     },
     "execution_count": 41,
     "metadata": {},
     "output_type": "execute_result"
    }
   ],
   "source": [
    "# the number of features which coefficient was shrank to zero:\n",
    "np.sum(sel_.estimator_.coef_ == 0)"
   ]
  },
  {
   "cell_type": "code",
   "execution_count": 42,
   "metadata": {},
   "outputs": [
    {
     "data": {
      "text/plain": [
       "((63, 27), (27, 27))"
      ]
     },
     "execution_count": 42,
     "metadata": {},
     "output_type": "execute_result"
    }
   ],
   "source": [
    "# we can then remove the features from the training and testing set\n",
    "# like this:\n",
    "\n",
    "X_train_lasso = sel_.transform(X_train)\n",
    "X_test_lasso = sel_.transform(X_test)\n",
    "\n",
    "X_train_lasso.shape, X_test_lasso.shape"
   ]
  },
  {
   "cell_type": "code",
   "execution_count": 43,
   "metadata": {},
   "outputs": [
    {
     "data": {
      "text/plain": [
       "Index(['POU3F1', 'PPIAL4A', 'TEX50', 'OR2AK2', 'POU3F2', 'PAPOLB', 'TRGJ2',\n",
       "       'TRBV7-6', 'NPM2', 'MSC', 'LYNX1', 'PKP3', 'OR5AK2', 'TRAV24',\n",
       "       'TRAV38-1', 'TRAJ54', 'TRAJ52', 'TRAJ47', 'TRAJ44', 'TRAJ33', 'TRAJ30',\n",
       "       'TRAJ28', 'KRT19', 'GAL3ST1', 'ADM2', 'NUDT11', 'DDX3Y'],\n",
       "      dtype='object')"
      ]
     },
     "execution_count": 43,
     "metadata": {},
     "output_type": "execute_result"
    }
   ],
   "source": [
    "feat_names_lasso = X_train.columns[sel_.get_support()]\n",
    "feat_names_lasso"
   ]
  },
  {
   "cell_type": "code",
   "execution_count": 44,
   "metadata": {
    "scrolled": false
   },
   "outputs": [
    {
     "data": {
      "text/html": [
       "<div>\n",
       "<style scoped>\n",
       "    .dataframe tbody tr th:only-of-type {\n",
       "        vertical-align: middle;\n",
       "    }\n",
       "\n",
       "    .dataframe tbody tr th {\n",
       "        vertical-align: top;\n",
       "    }\n",
       "\n",
       "    .dataframe thead th {\n",
       "        text-align: right;\n",
       "    }\n",
       "</style>\n",
       "<table border=\"1\" class=\"dataframe\">\n",
       "  <thead>\n",
       "    <tr style=\"text-align: right;\">\n",
       "      <th></th>\n",
       "      <th>POU3F1</th>\n",
       "      <th>PPIAL4A</th>\n",
       "      <th>TEX50</th>\n",
       "      <th>OR2AK2</th>\n",
       "      <th>POU3F2</th>\n",
       "      <th>PAPOLB</th>\n",
       "      <th>TRGJ2</th>\n",
       "      <th>TRBV7-6</th>\n",
       "      <th>NPM2</th>\n",
       "      <th>MSC</th>\n",
       "      <th>...</th>\n",
       "      <th>TRAJ47</th>\n",
       "      <th>TRAJ44</th>\n",
       "      <th>TRAJ33</th>\n",
       "      <th>TRAJ30</th>\n",
       "      <th>TRAJ28</th>\n",
       "      <th>KRT19</th>\n",
       "      <th>GAL3ST1</th>\n",
       "      <th>ADM2</th>\n",
       "      <th>NUDT11</th>\n",
       "      <th>DDX3Y</th>\n",
       "    </tr>\n",
       "  </thead>\n",
       "  <tbody>\n",
       "    <tr>\n",
       "      <th>79</th>\n",
       "      <td>2.829794</td>\n",
       "      <td>2.953516</td>\n",
       "      <td>0.470608</td>\n",
       "      <td>0.823247</td>\n",
       "      <td>4.561627</td>\n",
       "      <td>0.136488</td>\n",
       "      <td>0.000000</td>\n",
       "      <td>0.000000</td>\n",
       "      <td>3.461918</td>\n",
       "      <td>6.200220</td>\n",
       "      <td>...</td>\n",
       "      <td>0.000000</td>\n",
       "      <td>6.890718</td>\n",
       "      <td>7.536333</td>\n",
       "      <td>0.000000</td>\n",
       "      <td>0.000000</td>\n",
       "      <td>3.013565</td>\n",
       "      <td>0.000000</td>\n",
       "      <td>0.000000</td>\n",
       "      <td>0.341195</td>\n",
       "      <td>8.110795</td>\n",
       "    </tr>\n",
       "    <tr>\n",
       "      <th>82</th>\n",
       "      <td>3.408138</td>\n",
       "      <td>2.570994</td>\n",
       "      <td>0.000000</td>\n",
       "      <td>0.498817</td>\n",
       "      <td>3.933324</td>\n",
       "      <td>2.645611</td>\n",
       "      <td>0.000000</td>\n",
       "      <td>0.000000</td>\n",
       "      <td>4.333843</td>\n",
       "      <td>5.326172</td>\n",
       "      <td>...</td>\n",
       "      <td>5.299356</td>\n",
       "      <td>7.729725</td>\n",
       "      <td>8.667147</td>\n",
       "      <td>1.314934</td>\n",
       "      <td>1.469976</td>\n",
       "      <td>0.795437</td>\n",
       "      <td>1.936706</td>\n",
       "      <td>0.000000</td>\n",
       "      <td>2.744351</td>\n",
       "      <td>8.199987</td>\n",
       "    </tr>\n",
       "    <tr>\n",
       "      <th>3</th>\n",
       "      <td>4.907083</td>\n",
       "      <td>0.000000</td>\n",
       "      <td>0.000000</td>\n",
       "      <td>4.945985</td>\n",
       "      <td>5.374499</td>\n",
       "      <td>4.089484</td>\n",
       "      <td>0.000000</td>\n",
       "      <td>0.000000</td>\n",
       "      <td>2.126141</td>\n",
       "      <td>6.039851</td>\n",
       "      <td>...</td>\n",
       "      <td>0.000000</td>\n",
       "      <td>7.125752</td>\n",
       "      <td>9.848754</td>\n",
       "      <td>7.271594</td>\n",
       "      <td>8.052657</td>\n",
       "      <td>7.093954</td>\n",
       "      <td>0.515203</td>\n",
       "      <td>1.462325</td>\n",
       "      <td>0.000000</td>\n",
       "      <td>1.632556</td>\n",
       "    </tr>\n",
       "    <tr>\n",
       "      <th>62</th>\n",
       "      <td>0.000000</td>\n",
       "      <td>0.000000</td>\n",
       "      <td>1.879338</td>\n",
       "      <td>4.913928</td>\n",
       "      <td>3.976795</td>\n",
       "      <td>0.000000</td>\n",
       "      <td>6.629023</td>\n",
       "      <td>5.979992</td>\n",
       "      <td>3.572991</td>\n",
       "      <td>6.061516</td>\n",
       "      <td>...</td>\n",
       "      <td>7.430117</td>\n",
       "      <td>9.277213</td>\n",
       "      <td>10.008092</td>\n",
       "      <td>8.425928</td>\n",
       "      <td>9.209154</td>\n",
       "      <td>2.612851</td>\n",
       "      <td>0.309973</td>\n",
       "      <td>0.985771</td>\n",
       "      <td>1.298078</td>\n",
       "      <td>0.000000</td>\n",
       "    </tr>\n",
       "    <tr>\n",
       "      <th>75</th>\n",
       "      <td>4.832066</td>\n",
       "      <td>0.000000</td>\n",
       "      <td>0.909888</td>\n",
       "      <td>3.737281</td>\n",
       "      <td>2.701823</td>\n",
       "      <td>2.663947</td>\n",
       "      <td>0.000000</td>\n",
       "      <td>0.000000</td>\n",
       "      <td>1.244932</td>\n",
       "      <td>5.110941</td>\n",
       "      <td>...</td>\n",
       "      <td>2.854111</td>\n",
       "      <td>2.804715</td>\n",
       "      <td>8.340896</td>\n",
       "      <td>7.331127</td>\n",
       "      <td>3.118381</td>\n",
       "      <td>1.468197</td>\n",
       "      <td>3.506076</td>\n",
       "      <td>1.436108</td>\n",
       "      <td>1.623877</td>\n",
       "      <td>4.296515</td>\n",
       "    </tr>\n",
       "  </tbody>\n",
       "</table>\n",
       "<p>5 rows × 27 columns</p>\n",
       "</div>"
      ],
      "text/plain": [
       "      POU3F1   PPIAL4A     TEX50    OR2AK2    POU3F2    PAPOLB     TRGJ2  \\\n",
       "79  2.829794  2.953516  0.470608  0.823247  4.561627  0.136488  0.000000   \n",
       "82  3.408138  2.570994  0.000000  0.498817  3.933324  2.645611  0.000000   \n",
       "3   4.907083  0.000000  0.000000  4.945985  5.374499  4.089484  0.000000   \n",
       "62  0.000000  0.000000  1.879338  4.913928  3.976795  0.000000  6.629023   \n",
       "75  4.832066  0.000000  0.909888  3.737281  2.701823  2.663947  0.000000   \n",
       "\n",
       "     TRBV7-6      NPM2       MSC  ...    TRAJ47    TRAJ44     TRAJ33  \\\n",
       "79  0.000000  3.461918  6.200220  ...  0.000000  6.890718   7.536333   \n",
       "82  0.000000  4.333843  5.326172  ...  5.299356  7.729725   8.667147   \n",
       "3   0.000000  2.126141  6.039851  ...  0.000000  7.125752   9.848754   \n",
       "62  5.979992  3.572991  6.061516  ...  7.430117  9.277213  10.008092   \n",
       "75  0.000000  1.244932  5.110941  ...  2.854111  2.804715   8.340896   \n",
       "\n",
       "      TRAJ30    TRAJ28     KRT19   GAL3ST1      ADM2    NUDT11     DDX3Y  \n",
       "79  0.000000  0.000000  3.013565  0.000000  0.000000  0.341195  8.110795  \n",
       "82  1.314934  1.469976  0.795437  1.936706  0.000000  2.744351  8.199987  \n",
       "3   7.271594  8.052657  7.093954  0.515203  1.462325  0.000000  1.632556  \n",
       "62  8.425928  9.209154  2.612851  0.309973  0.985771  1.298078  0.000000  \n",
       "75  7.331127  3.118381  1.468197  3.506076  1.436108  1.623877  4.296515  \n",
       "\n",
       "[5 rows x 27 columns]"
      ]
     },
     "execution_count": 44,
     "metadata": {},
     "output_type": "execute_result"
    }
   ],
   "source": [
    "X_train_lasso = pd.DataFrame(X_train_lasso,index= X_train_uni.index, columns=feat_names_lasso)\n",
    "X_train_lasso.head()"
   ]
  },
  {
   "cell_type": "code",
   "execution_count": 45,
   "metadata": {
    "scrolled": false
   },
   "outputs": [
    {
     "data": {
      "text/html": [
       "<div>\n",
       "<style scoped>\n",
       "    .dataframe tbody tr th:only-of-type {\n",
       "        vertical-align: middle;\n",
       "    }\n",
       "\n",
       "    .dataframe tbody tr th {\n",
       "        vertical-align: top;\n",
       "    }\n",
       "\n",
       "    .dataframe thead th {\n",
       "        text-align: right;\n",
       "    }\n",
       "</style>\n",
       "<table border=\"1\" class=\"dataframe\">\n",
       "  <thead>\n",
       "    <tr style=\"text-align: right;\">\n",
       "      <th></th>\n",
       "      <th>POU3F1</th>\n",
       "      <th>PPIAL4A</th>\n",
       "      <th>TEX50</th>\n",
       "      <th>OR2AK2</th>\n",
       "      <th>POU3F2</th>\n",
       "      <th>PAPOLB</th>\n",
       "      <th>TRGJ2</th>\n",
       "      <th>TRBV7-6</th>\n",
       "      <th>NPM2</th>\n",
       "      <th>MSC</th>\n",
       "      <th>...</th>\n",
       "      <th>TRAJ47</th>\n",
       "      <th>TRAJ44</th>\n",
       "      <th>TRAJ33</th>\n",
       "      <th>TRAJ30</th>\n",
       "      <th>TRAJ28</th>\n",
       "      <th>KRT19</th>\n",
       "      <th>GAL3ST1</th>\n",
       "      <th>ADM2</th>\n",
       "      <th>NUDT11</th>\n",
       "      <th>DDX3Y</th>\n",
       "    </tr>\n",
       "  </thead>\n",
       "  <tbody>\n",
       "    <tr>\n",
       "      <th>2</th>\n",
       "      <td>0.000000</td>\n",
       "      <td>4.424822</td>\n",
       "      <td>0.0</td>\n",
       "      <td>0.000000</td>\n",
       "      <td>0.000000</td>\n",
       "      <td>0.000000</td>\n",
       "      <td>0.000000</td>\n",
       "      <td>0.000000</td>\n",
       "      <td>1.638431</td>\n",
       "      <td>5.413103</td>\n",
       "      <td>...</td>\n",
       "      <td>7.918793</td>\n",
       "      <td>9.353148</td>\n",
       "      <td>10.721029</td>\n",
       "      <td>7.918793</td>\n",
       "      <td>7.704738</td>\n",
       "      <td>0.000000</td>\n",
       "      <td>0.000000</td>\n",
       "      <td>0.000000</td>\n",
       "      <td>2.838338</td>\n",
       "      <td>8.503465</td>\n",
       "    </tr>\n",
       "    <tr>\n",
       "      <th>13</th>\n",
       "      <td>1.526903</td>\n",
       "      <td>0.000000</td>\n",
       "      <td>0.0</td>\n",
       "      <td>0.000000</td>\n",
       "      <td>5.772714</td>\n",
       "      <td>1.847559</td>\n",
       "      <td>6.843250</td>\n",
       "      <td>4.996727</td>\n",
       "      <td>0.000000</td>\n",
       "      <td>6.564119</td>\n",
       "      <td>...</td>\n",
       "      <td>8.227768</td>\n",
       "      <td>9.078777</td>\n",
       "      <td>9.961361</td>\n",
       "      <td>7.645210</td>\n",
       "      <td>8.013528</td>\n",
       "      <td>1.756107</td>\n",
       "      <td>1.079826</td>\n",
       "      <td>2.142982</td>\n",
       "      <td>1.824742</td>\n",
       "      <td>8.616417</td>\n",
       "    </tr>\n",
       "    <tr>\n",
       "      <th>53</th>\n",
       "      <td>1.289789</td>\n",
       "      <td>0.000000</td>\n",
       "      <td>0.0</td>\n",
       "      <td>5.510117</td>\n",
       "      <td>0.000000</td>\n",
       "      <td>1.997666</td>\n",
       "      <td>0.000000</td>\n",
       "      <td>4.073196</td>\n",
       "      <td>4.204518</td>\n",
       "      <td>6.736581</td>\n",
       "      <td>...</td>\n",
       "      <td>7.848204</td>\n",
       "      <td>8.436225</td>\n",
       "      <td>9.259323</td>\n",
       "      <td>7.848204</td>\n",
       "      <td>8.047418</td>\n",
       "      <td>0.000000</td>\n",
       "      <td>1.649923</td>\n",
       "      <td>2.643255</td>\n",
       "      <td>0.723144</td>\n",
       "      <td>8.314458</td>\n",
       "    </tr>\n",
       "    <tr>\n",
       "      <th>41</th>\n",
       "      <td>3.825500</td>\n",
       "      <td>0.000000</td>\n",
       "      <td>0.0</td>\n",
       "      <td>0.000000</td>\n",
       "      <td>6.339311</td>\n",
       "      <td>0.000000</td>\n",
       "      <td>0.000000</td>\n",
       "      <td>0.000000</td>\n",
       "      <td>1.013887</td>\n",
       "      <td>5.009920</td>\n",
       "      <td>...</td>\n",
       "      <td>0.000000</td>\n",
       "      <td>7.720997</td>\n",
       "      <td>0.000000</td>\n",
       "      <td>0.000000</td>\n",
       "      <td>0.000000</td>\n",
       "      <td>1.916603</td>\n",
       "      <td>0.000000</td>\n",
       "      <td>2.659276</td>\n",
       "      <td>2.309340</td>\n",
       "      <td>5.582638</td>\n",
       "    </tr>\n",
       "    <tr>\n",
       "      <th>66</th>\n",
       "      <td>5.245814</td>\n",
       "      <td>2.750574</td>\n",
       "      <td>0.0</td>\n",
       "      <td>0.000000</td>\n",
       "      <td>1.730919</td>\n",
       "      <td>1.464427</td>\n",
       "      <td>6.286523</td>\n",
       "      <td>6.723752</td>\n",
       "      <td>4.947670</td>\n",
       "      <td>5.979386</td>\n",
       "      <td>...</td>\n",
       "      <td>8.885685</td>\n",
       "      <td>9.515371</td>\n",
       "      <td>10.076614</td>\n",
       "      <td>8.663801</td>\n",
       "      <td>9.321952</td>\n",
       "      <td>0.000000</td>\n",
       "      <td>0.461562</td>\n",
       "      <td>2.279588</td>\n",
       "      <td>1.102683</td>\n",
       "      <td>0.000000</td>\n",
       "    </tr>\n",
       "  </tbody>\n",
       "</table>\n",
       "<p>5 rows × 27 columns</p>\n",
       "</div>"
      ],
      "text/plain": [
       "      POU3F1   PPIAL4A  TEX50    OR2AK2    POU3F2    PAPOLB     TRGJ2  \\\n",
       "2   0.000000  4.424822    0.0  0.000000  0.000000  0.000000  0.000000   \n",
       "13  1.526903  0.000000    0.0  0.000000  5.772714  1.847559  6.843250   \n",
       "53  1.289789  0.000000    0.0  5.510117  0.000000  1.997666  0.000000   \n",
       "41  3.825500  0.000000    0.0  0.000000  6.339311  0.000000  0.000000   \n",
       "66  5.245814  2.750574    0.0  0.000000  1.730919  1.464427  6.286523   \n",
       "\n",
       "     TRBV7-6      NPM2       MSC  ...    TRAJ47    TRAJ44     TRAJ33  \\\n",
       "2   0.000000  1.638431  5.413103  ...  7.918793  9.353148  10.721029   \n",
       "13  4.996727  0.000000  6.564119  ...  8.227768  9.078777   9.961361   \n",
       "53  4.073196  4.204518  6.736581  ...  7.848204  8.436225   9.259323   \n",
       "41  0.000000  1.013887  5.009920  ...  0.000000  7.720997   0.000000   \n",
       "66  6.723752  4.947670  5.979386  ...  8.885685  9.515371  10.076614   \n",
       "\n",
       "      TRAJ30    TRAJ28     KRT19   GAL3ST1      ADM2    NUDT11     DDX3Y  \n",
       "2   7.918793  7.704738  0.000000  0.000000  0.000000  2.838338  8.503465  \n",
       "13  7.645210  8.013528  1.756107  1.079826  2.142982  1.824742  8.616417  \n",
       "53  7.848204  8.047418  0.000000  1.649923  2.643255  0.723144  8.314458  \n",
       "41  0.000000  0.000000  1.916603  0.000000  2.659276  2.309340  5.582638  \n",
       "66  8.663801  9.321952  0.000000  0.461562  2.279588  1.102683  0.000000  \n",
       "\n",
       "[5 rows x 27 columns]"
      ]
     },
     "execution_count": 45,
     "metadata": {},
     "output_type": "execute_result"
    }
   ],
   "source": [
    "X_test_lasso = pd.DataFrame(X_test_lasso,index= X_test_uni.index, columns=feat_names_lasso)\n",
    "X_test_lasso.head()"
   ]
  },
  {
   "cell_type": "markdown",
   "metadata": {},
   "source": [
    "# lasso performance evaluation"
   ]
  },
  {
   "cell_type": "code",
   "execution_count": 49,
   "metadata": {},
   "outputs": [
    {
     "name": "stdout",
     "output_type": "stream",
     "text": [
      "ExtraTreesClassifier 0.778\n",
      "LogisticRegression 0.852\n",
      "SVC 0.852\n",
      "AdaBoostClassifier 0.667\n",
      "XGBClassifier 0.63\n",
      "VotingClassifier 0.741\n",
      "              precision    recall  f1-score   support\n",
      "\n",
      "           0       0.79      0.79      0.79        14\n",
      "           1       0.77      0.77      0.77        13\n",
      "\n",
      "    accuracy                           0.78        27\n",
      "   macro avg       0.78      0.78      0.78        27\n",
      "weighted avg       0.78      0.78      0.78        27\n",
      "\n",
      "Sensitivity (True Positive Rate): 0.77\n",
      "Specificity: 0.79\n"
     ]
    }
   ],
   "source": [
    "\n",
    "clf1 = ExtraTreesClassifier()\n",
    "clf2 = LogisticRegression(penalty ='l2', C=0.1, solver='liblinear', random_state=4,max_iter = 1000)\n",
    "clf3 = SVC(gamma =1e-05, probability = True, decision_function_shape = 'ovo', kernel = 'linear')\n",
    "clf4 = AdaBoostClassifier()\n",
    "clf5= XGBClassifier()            \n",
    "               \n",
    "eclf1 = VotingClassifier(estimators=[  ('logistic', clf2),('SVM', clf3),\n",
    "                                        ('XGB', clf5), ('extratree',clf1), \n",
    "                                        ('AdaBoost', clf4)\n",
    "                                        ], voting='hard') \n",
    "\n",
    "\n",
    "\n",
    "\n",
    "for clf in (clf1,clf2, clf3, clf4, clf5, eclf1):\n",
    "    clf.fit(X_train_lasso, y_train)\n",
    "    y_pred = clf.predict(X_test_lasso)\n",
    "    print(clf.__class__.__name__, round(accuracy_score(y_test, y_pred),3))\n",
    "\n",
    "\n",
    "\n",
    "eclf1.fit(X_train_lasso, y_train)\n",
    "predictions = eclf1.predict(X_test_lasso)\n",
    "print(classification_report(y_test, predictions))\n",
    "\n",
    "confusion_mat = confusion_matrix(y_test, predictions)\n",
    "# Extract values from the confusion matrix\n",
    "true_positive = confusion_mat[1, 1]\n",
    "false_positive = confusion_mat[0, 1]\n",
    "true_negative = confusion_mat[0, 0]\n",
    "false_negative = confusion_mat[1, 0]\n",
    "\n",
    "# Calculate Sensitivity (True Positive Rate)\n",
    "sensitivity = true_positive / (true_positive + false_negative)\n",
    "\n",
    "# Calculate Specificity\n",
    "specificity = true_negative / (true_negative + false_positive)\n",
    "\n",
    "# Print the results\n",
    "print(f'Sensitivity (True Positive Rate): {sensitivity:.2f}')\n",
    "print(f'Specificity: {specificity:.2f}')\n"
   ]
  },
  {
   "cell_type": "code",
   "execution_count": null,
   "metadata": {},
   "outputs": [],
   "source": []
  },
  {
   "cell_type": "markdown",
   "metadata": {},
   "source": [
    "# Select Features by Random Forests Importance"
   ]
  },
  {
   "cell_type": "code",
   "execution_count": 67,
   "metadata": {},
   "outputs": [],
   "source": [
    "# use of the data selected by Univariate ROC-AUC Performance\n",
    "X_train = X_train_uni\n",
    "X_test = X_test_uni"
   ]
  },
  {
   "cell_type": "code",
   "execution_count": 68,
   "metadata": {},
   "outputs": [
    {
     "data": {
      "text/plain": [
       "((63, 1141), (27, 1141))"
      ]
     },
     "execution_count": 68,
     "metadata": {},
     "output_type": "execute_result"
    }
   ],
   "source": [
    "# ensure the sizes of X_train and X_test.\n",
    "X_train.shape, X_test.shape"
   ]
  },
  {
   "cell_type": "code",
   "execution_count": 69,
   "metadata": {},
   "outputs": [
    {
     "data": {
      "text/html": [
       "<div>\n",
       "<style scoped>\n",
       "    .dataframe tbody tr th:only-of-type {\n",
       "        vertical-align: middle;\n",
       "    }\n",
       "\n",
       "    .dataframe tbody tr th {\n",
       "        vertical-align: top;\n",
       "    }\n",
       "\n",
       "    .dataframe thead th {\n",
       "        text-align: right;\n",
       "    }\n",
       "</style>\n",
       "<table border=\"1\" class=\"dataframe\">\n",
       "  <thead>\n",
       "    <tr style=\"text-align: right;\">\n",
       "      <th></th>\n",
       "      <th>MRPL20</th>\n",
       "      <th>PLCH2</th>\n",
       "      <th>CEP104</th>\n",
       "      <th>VAMP3</th>\n",
       "      <th>PIK3CD</th>\n",
       "      <th>PIK3CD-AS1</th>\n",
       "      <th>CTNNBIP1</th>\n",
       "      <th>DFFA</th>\n",
       "      <th>TMEM51-AS1</th>\n",
       "      <th>PADI3</th>\n",
       "      <th>...</th>\n",
       "      <th>PAK3</th>\n",
       "      <th>MCTS1</th>\n",
       "      <th>ZNF449</th>\n",
       "      <th>ADGRG4</th>\n",
       "      <th>FGF13</th>\n",
       "      <th>SPANXB1</th>\n",
       "      <th>GPR50</th>\n",
       "      <th>DDX3Y</th>\n",
       "      <th>LINC01238</th>\n",
       "      <th>PLA2G2C</th>\n",
       "    </tr>\n",
       "  </thead>\n",
       "  <tbody>\n",
       "    <tr>\n",
       "      <th>79</th>\n",
       "      <td>7.570243</td>\n",
       "      <td>1.821964</td>\n",
       "      <td>5.856766</td>\n",
       "      <td>5.932988</td>\n",
       "      <td>5.742181</td>\n",
       "      <td>5.034410</td>\n",
       "      <td>1.973813</td>\n",
       "      <td>5.702246</td>\n",
       "      <td>0.973665</td>\n",
       "      <td>0.042752</td>\n",
       "      <td>...</td>\n",
       "      <td>0.151941</td>\n",
       "      <td>5.211416</td>\n",
       "      <td>5.415581</td>\n",
       "      <td>0.082789</td>\n",
       "      <td>0.137672</td>\n",
       "      <td>4.049688</td>\n",
       "      <td>0.0</td>\n",
       "      <td>8.110795</td>\n",
       "      <td>0.253986</td>\n",
       "      <td>0.274204</td>\n",
       "    </tr>\n",
       "    <tr>\n",
       "      <th>82</th>\n",
       "      <td>7.093483</td>\n",
       "      <td>1.173003</td>\n",
       "      <td>5.383863</td>\n",
       "      <td>5.930621</td>\n",
       "      <td>5.519404</td>\n",
       "      <td>5.176408</td>\n",
       "      <td>1.545476</td>\n",
       "      <td>5.867246</td>\n",
       "      <td>1.028031</td>\n",
       "      <td>1.085278</td>\n",
       "      <td>...</td>\n",
       "      <td>0.593874</td>\n",
       "      <td>4.935200</td>\n",
       "      <td>5.107300</td>\n",
       "      <td>0.152173</td>\n",
       "      <td>0.153646</td>\n",
       "      <td>2.556665</td>\n",
       "      <td>0.0</td>\n",
       "      <td>8.199987</td>\n",
       "      <td>0.171713</td>\n",
       "      <td>0.000000</td>\n",
       "    </tr>\n",
       "    <tr>\n",
       "      <th>3</th>\n",
       "      <td>7.192808</td>\n",
       "      <td>5.522151</td>\n",
       "      <td>5.474071</td>\n",
       "      <td>5.522044</td>\n",
       "      <td>4.459219</td>\n",
       "      <td>6.050044</td>\n",
       "      <td>2.908931</td>\n",
       "      <td>5.054147</td>\n",
       "      <td>1.955722</td>\n",
       "      <td>0.000000</td>\n",
       "      <td>...</td>\n",
       "      <td>0.979523</td>\n",
       "      <td>4.647634</td>\n",
       "      <td>5.297447</td>\n",
       "      <td>0.289800</td>\n",
       "      <td>0.390714</td>\n",
       "      <td>0.000000</td>\n",
       "      <td>0.0</td>\n",
       "      <td>1.632556</td>\n",
       "      <td>1.851140</td>\n",
       "      <td>0.000000</td>\n",
       "    </tr>\n",
       "    <tr>\n",
       "      <th>62</th>\n",
       "      <td>7.382451</td>\n",
       "      <td>2.226904</td>\n",
       "      <td>5.904765</td>\n",
       "      <td>5.805884</td>\n",
       "      <td>5.167068</td>\n",
       "      <td>7.019796</td>\n",
       "      <td>1.433969</td>\n",
       "      <td>5.277627</td>\n",
       "      <td>0.654643</td>\n",
       "      <td>0.000000</td>\n",
       "      <td>...</td>\n",
       "      <td>0.577084</td>\n",
       "      <td>4.519005</td>\n",
       "      <td>5.120259</td>\n",
       "      <td>0.000000</td>\n",
       "      <td>0.387281</td>\n",
       "      <td>2.410704</td>\n",
       "      <td>0.0</td>\n",
       "      <td>0.000000</td>\n",
       "      <td>0.000000</td>\n",
       "      <td>0.000000</td>\n",
       "    </tr>\n",
       "    <tr>\n",
       "      <th>75</th>\n",
       "      <td>7.679880</td>\n",
       "      <td>1.795303</td>\n",
       "      <td>5.313456</td>\n",
       "      <td>5.910707</td>\n",
       "      <td>5.403834</td>\n",
       "      <td>4.078740</td>\n",
       "      <td>2.384913</td>\n",
       "      <td>5.637014</td>\n",
       "      <td>0.933163</td>\n",
       "      <td>0.000000</td>\n",
       "      <td>...</td>\n",
       "      <td>1.028568</td>\n",
       "      <td>4.929844</td>\n",
       "      <td>5.521676</td>\n",
       "      <td>0.275970</td>\n",
       "      <td>0.138589</td>\n",
       "      <td>0.000000</td>\n",
       "      <td>0.0</td>\n",
       "      <td>4.296515</td>\n",
       "      <td>0.794905</td>\n",
       "      <td>0.000000</td>\n",
       "    </tr>\n",
       "  </tbody>\n",
       "</table>\n",
       "<p>5 rows × 1141 columns</p>\n",
       "</div>"
      ],
      "text/plain": [
       "      MRPL20     PLCH2    CEP104     VAMP3    PIK3CD  PIK3CD-AS1  CTNNBIP1  \\\n",
       "79  7.570243  1.821964  5.856766  5.932988  5.742181    5.034410  1.973813   \n",
       "82  7.093483  1.173003  5.383863  5.930621  5.519404    5.176408  1.545476   \n",
       "3   7.192808  5.522151  5.474071  5.522044  4.459219    6.050044  2.908931   \n",
       "62  7.382451  2.226904  5.904765  5.805884  5.167068    7.019796  1.433969   \n",
       "75  7.679880  1.795303  5.313456  5.910707  5.403834    4.078740  2.384913   \n",
       "\n",
       "        DFFA  TMEM51-AS1     PADI3  ...      PAK3     MCTS1    ZNF449  \\\n",
       "79  5.702246    0.973665  0.042752  ...  0.151941  5.211416  5.415581   \n",
       "82  5.867246    1.028031  1.085278  ...  0.593874  4.935200  5.107300   \n",
       "3   5.054147    1.955722  0.000000  ...  0.979523  4.647634  5.297447   \n",
       "62  5.277627    0.654643  0.000000  ...  0.577084  4.519005  5.120259   \n",
       "75  5.637014    0.933163  0.000000  ...  1.028568  4.929844  5.521676   \n",
       "\n",
       "      ADGRG4     FGF13   SPANXB1  GPR50     DDX3Y  LINC01238   PLA2G2C  \n",
       "79  0.082789  0.137672  4.049688    0.0  8.110795   0.253986  0.274204  \n",
       "82  0.152173  0.153646  2.556665    0.0  8.199987   0.171713  0.000000  \n",
       "3   0.289800  0.390714  0.000000    0.0  1.632556   1.851140  0.000000  \n",
       "62  0.000000  0.387281  2.410704    0.0  0.000000   0.000000  0.000000  \n",
       "75  0.275970  0.138589  0.000000    0.0  4.296515   0.794905  0.000000  \n",
       "\n",
       "[5 rows x 1141 columns]"
      ]
     },
     "execution_count": 69,
     "metadata": {},
     "output_type": "execute_result"
    }
   ],
   "source": [
    "X_train_uni.head()"
   ]
  },
  {
   "cell_type": "code",
   "execution_count": 70,
   "metadata": {},
   "outputs": [
    {
     "data": {
      "text/html": [
       "<style>#sk-container-id-7 {color: black;background-color: white;}#sk-container-id-7 pre{padding: 0;}#sk-container-id-7 div.sk-toggleable {background-color: white;}#sk-container-id-7 label.sk-toggleable__label {cursor: pointer;display: block;width: 100%;margin-bottom: 0;padding: 0.3em;box-sizing: border-box;text-align: center;}#sk-container-id-7 label.sk-toggleable__label-arrow:before {content: \"▸\";float: left;margin-right: 0.25em;color: #696969;}#sk-container-id-7 label.sk-toggleable__label-arrow:hover:before {color: black;}#sk-container-id-7 div.sk-estimator:hover label.sk-toggleable__label-arrow:before {color: black;}#sk-container-id-7 div.sk-toggleable__content {max-height: 0;max-width: 0;overflow: hidden;text-align: left;background-color: #f0f8ff;}#sk-container-id-7 div.sk-toggleable__content pre {margin: 0.2em;color: black;border-radius: 0.25em;background-color: #f0f8ff;}#sk-container-id-7 input.sk-toggleable__control:checked~div.sk-toggleable__content {max-height: 200px;max-width: 100%;overflow: auto;}#sk-container-id-7 input.sk-toggleable__control:checked~label.sk-toggleable__label-arrow:before {content: \"▾\";}#sk-container-id-7 div.sk-estimator input.sk-toggleable__control:checked~label.sk-toggleable__label {background-color: #d4ebff;}#sk-container-id-7 div.sk-label input.sk-toggleable__control:checked~label.sk-toggleable__label {background-color: #d4ebff;}#sk-container-id-7 input.sk-hidden--visually {border: 0;clip: rect(1px 1px 1px 1px);clip: rect(1px, 1px, 1px, 1px);height: 1px;margin: -1px;overflow: hidden;padding: 0;position: absolute;width: 1px;}#sk-container-id-7 div.sk-estimator {font-family: monospace;background-color: #f0f8ff;border: 1px dotted black;border-radius: 0.25em;box-sizing: border-box;margin-bottom: 0.5em;}#sk-container-id-7 div.sk-estimator:hover {background-color: #d4ebff;}#sk-container-id-7 div.sk-parallel-item::after {content: \"\";width: 100%;border-bottom: 1px solid gray;flex-grow: 1;}#sk-container-id-7 div.sk-label:hover label.sk-toggleable__label {background-color: #d4ebff;}#sk-container-id-7 div.sk-serial::before {content: \"\";position: absolute;border-left: 1px solid gray;box-sizing: border-box;top: 0;bottom: 0;left: 50%;z-index: 0;}#sk-container-id-7 div.sk-serial {display: flex;flex-direction: column;align-items: center;background-color: white;padding-right: 0.2em;padding-left: 0.2em;position: relative;}#sk-container-id-7 div.sk-item {position: relative;z-index: 1;}#sk-container-id-7 div.sk-parallel {display: flex;align-items: stretch;justify-content: center;background-color: white;position: relative;}#sk-container-id-7 div.sk-item::before, #sk-container-id-7 div.sk-parallel-item::before {content: \"\";position: absolute;border-left: 1px solid gray;box-sizing: border-box;top: 0;bottom: 0;left: 50%;z-index: -1;}#sk-container-id-7 div.sk-parallel-item {display: flex;flex-direction: column;z-index: 1;position: relative;background-color: white;}#sk-container-id-7 div.sk-parallel-item:first-child::after {align-self: flex-end;width: 50%;}#sk-container-id-7 div.sk-parallel-item:last-child::after {align-self: flex-start;width: 50%;}#sk-container-id-7 div.sk-parallel-item:only-child::after {width: 0;}#sk-container-id-7 div.sk-dashed-wrapped {border: 1px dashed gray;margin: 0 0.4em 0.5em 0.4em;box-sizing: border-box;padding-bottom: 0.4em;background-color: white;}#sk-container-id-7 div.sk-label label {font-family: monospace;font-weight: bold;display: inline-block;line-height: 1.2em;}#sk-container-id-7 div.sk-label-container {text-align: center;}#sk-container-id-7 div.sk-container {/* jupyter's `normalize.less` sets `[hidden] { display: none; }` but bootstrap.min.css set `[hidden] { display: none !important; }` so we also need the `!important` here to be able to override the default hidden behavior on the sphinx rendered scikit-learn.org. See: https://github.com/scikit-learn/scikit-learn/issues/21755 */display: inline-block !important;position: relative;}#sk-container-id-7 div.sk-text-repr-fallback {display: none;}</style><div id=\"sk-container-id-7\" class=\"sk-top-container\"><div class=\"sk-text-repr-fallback\"><pre>SelectFromModel(estimator=RandomForestClassifier(n_estimators=10,\n",
       "                                                 random_state=42))</pre><b>In a Jupyter environment, please rerun this cell to show the HTML representation or trust the notebook. <br />On GitHub, the HTML representation is unable to render, please try loading this page with nbviewer.org.</b></div><div class=\"sk-container\" hidden><div class=\"sk-item sk-dashed-wrapped\"><div class=\"sk-label-container\"><div class=\"sk-label sk-toggleable\"><input class=\"sk-toggleable__control sk-hidden--visually\" id=\"sk-estimator-id-15\" type=\"checkbox\" ><label for=\"sk-estimator-id-15\" class=\"sk-toggleable__label sk-toggleable__label-arrow\">SelectFromModel</label><div class=\"sk-toggleable__content\"><pre>SelectFromModel(estimator=RandomForestClassifier(n_estimators=10,\n",
       "                                                 random_state=42))</pre></div></div></div><div class=\"sk-parallel\"><div class=\"sk-parallel-item\"><div class=\"sk-item\"><div class=\"sk-label-container\"><div class=\"sk-label sk-toggleable\"><input class=\"sk-toggleable__control sk-hidden--visually\" id=\"sk-estimator-id-16\" type=\"checkbox\" ><label for=\"sk-estimator-id-16\" class=\"sk-toggleable__label sk-toggleable__label-arrow\">estimator: RandomForestClassifier</label><div class=\"sk-toggleable__content\"><pre>RandomForestClassifier(n_estimators=10, random_state=42)</pre></div></div></div><div class=\"sk-serial\"><div class=\"sk-item\"><div class=\"sk-estimator sk-toggleable\"><input class=\"sk-toggleable__control sk-hidden--visually\" id=\"sk-estimator-id-17\" type=\"checkbox\" ><label for=\"sk-estimator-id-17\" class=\"sk-toggleable__label sk-toggleable__label-arrow\">RandomForestClassifier</label><div class=\"sk-toggleable__content\"><pre>RandomForestClassifier(n_estimators=10, random_state=42)</pre></div></div></div></div></div></div></div></div></div></div>"
      ],
      "text/plain": [
       "SelectFromModel(estimator=RandomForestClassifier(n_estimators=10,\n",
       "                                                 random_state=42))"
      ]
     },
     "execution_count": 70,
     "metadata": {},
     "output_type": "execute_result"
    }
   ],
   "source": [
    "# select features using the impotance derived from\n",
    "# random forests\n",
    "\n",
    "from sklearn.feature_selection import SelectFromModel\n",
    "\n",
    "sel_ = SelectFromModel(RandomForestClassifier(n_estimators=10, random_state=42))\n",
    "sel_.fit(X_train, y_train)\n",
    "\n"
   ]
  },
  {
   "cell_type": "code",
   "execution_count": 71,
   "metadata": {},
   "outputs": [],
   "source": [
    "# remove features with zero coefficient from dataset and parse again as dataframe (output of sklearn is numpy array)\n",
    "\n",
    "X_train_rf = pd.DataFrame(sel_.transform(X_train),index= X_train.index, columns= X_train.columns[(sel_.get_support())])\n",
    "X_test_rf = pd.DataFrame(sel_.transform(X_test),index= X_test.index, columns= X_train.columns[(sel_.get_support())])"
   ]
  },
  {
   "cell_type": "code",
   "execution_count": 72,
   "metadata": {},
   "outputs": [
    {
     "data": {
      "text/plain": [
       "((63, 50), (27, 50))"
      ]
     },
     "execution_count": 72,
     "metadata": {},
     "output_type": "execute_result"
    }
   ],
   "source": [
    "X_train_rf.shape, X_test_rf.shape"
   ]
  },
  {
   "cell_type": "code",
   "execution_count": 73,
   "metadata": {},
   "outputs": [
    {
     "data": {
      "text/plain": [
       "Index(['H3C14', 'OR2AK2', 'PTRHD1', 'TGFA', 'CTLA4', 'COL4A4', 'GBE1',\n",
       "       'ATP8A1', 'FBXL7', 'GAPT', 'ERAP2', 'ADAM19', 'ZNF354C', 'PEX3',\n",
       "       'HOXA4', 'TRGJ2', 'EGFR', 'HILPDA', 'TRBV7-6', 'ACTR3C', 'IDO2',\n",
       "       'LYNX1', 'NLRP6', 'ESAM', 'NINJ2-AS1', 'IRAK4', 'LLPH', 'TRAV38-2DV8',\n",
       "       'TRAJ52', 'TRAJ47', 'TRAJ33', 'TRAJ9', 'GCH1', 'ZNF280D', 'NPW',\n",
       "       'VKORC1', 'MED1', 'TMEM106A', 'TBX21', 'CD7', 'NDUFV2-AS1', 'FSD1',\n",
       "       'ZNF420', 'MYLK2', 'RBM12', 'RNF114', 'FNDC11', 'TMPRSS3', 'TEF',\n",
       "       'EFNB1'],\n",
       "      dtype='object')"
      ]
     },
     "execution_count": 73,
     "metadata": {},
     "output_type": "execute_result"
    }
   ],
   "source": [
    "X_train_rf.columns"
   ]
  },
  {
   "cell_type": "code",
   "execution_count": 74,
   "metadata": {},
   "outputs": [],
   "source": [
    "X_train = X_train_rf\n",
    "X_test= X_test_rf\n"
   ]
  },
  {
   "cell_type": "markdown",
   "metadata": {},
   "source": [
    "# RF importance performance evaluation"
   ]
  },
  {
   "cell_type": "code",
   "execution_count": 75,
   "metadata": {},
   "outputs": [
    {
     "name": "stdout",
     "output_type": "stream",
     "text": [
      "ExtraTreesClassifier 0.852\n",
      "LogisticRegression 0.852\n",
      "SVC 0.815\n",
      "AdaBoostClassifier 0.852\n",
      "XGBClassifier 0.741\n",
      "VotingClassifier 0.815\n",
      "              precision    recall  f1-score   support\n",
      "\n",
      "           0       0.80      0.86      0.83        14\n",
      "           1       0.83      0.77      0.80        13\n",
      "\n",
      "    accuracy                           0.81        27\n",
      "   macro avg       0.82      0.81      0.81        27\n",
      "weighted avg       0.82      0.81      0.81        27\n",
      "\n",
      "Sensitivity (True Positive Rate): 0.77\n",
      "Specificity: 0.86\n"
     ]
    }
   ],
   "source": [
    "\n",
    "clf1 = ExtraTreesClassifier()\n",
    "clf2 = LogisticRegression(penalty ='l2', C=0.1, solver='liblinear', random_state=4,max_iter = 1000)\n",
    "clf3 = SVC(gamma =1e-05, probability = True, decision_function_shape = 'ovo', kernel = 'linear')\n",
    "clf4 = AdaBoostClassifier()\n",
    "clf5= XGBClassifier()            \n",
    "               \n",
    "eclf1 = VotingClassifier(estimators=[  ('logistic', clf2),('SVM', clf3),\n",
    "                                        ('XGB', clf5), ('extratree',clf1), \n",
    "                                        ('AdaBoost', clf4)\n",
    "                                        ], voting='hard') \n",
    "\n",
    "\n",
    "\n",
    "\n",
    "for clf in (clf1,clf2, clf3, clf4, clf5, eclf1):\n",
    "    clf.fit(X_train, y_train)\n",
    "    y_pred = clf.predict(X_test)\n",
    "    print(clf.__class__.__name__, round(accuracy_score(y_test, y_pred),3))\n",
    "\n",
    "\n",
    "\n",
    "eclf1.fit(X_train, y_train)\n",
    "predictions = eclf1.predict(X_test)\n",
    "print(classification_report(y_test, predictions))\n",
    "\n",
    "confusion_mat = confusion_matrix(y_test, predictions)\n",
    "# Extract values from the confusion matrix\n",
    "true_positive = confusion_mat[1, 1]\n",
    "false_positive = confusion_mat[0, 1]\n",
    "true_negative = confusion_mat[0, 0]\n",
    "false_negative = confusion_mat[1, 0]\n",
    "\n",
    "# Calculate Sensitivity (True Positive Rate)\n",
    "sensitivity = true_positive / (true_positive + false_negative)\n",
    "\n",
    "# Calculate Specificity\n",
    "specificity = true_negative / (true_negative + false_positive)\n",
    "\n",
    "# Print the results\n",
    "print(f'Sensitivity (True Positive Rate): {sensitivity:.2f}')\n",
    "print(f'Specificity: {specificity:.2f}')\n"
   ]
  },
  {
   "cell_type": "code",
   "execution_count": null,
   "metadata": {},
   "outputs": [],
   "source": []
  }
 ],
 "metadata": {
  "kernelspec": {
   "display_name": "Python 3",
   "language": "python",
   "name": "python3"
  },
  "language_info": {
   "codemirror_mode": {
    "name": "ipython",
    "version": 3
   },
   "file_extension": ".py",
   "mimetype": "text/x-python",
   "name": "python",
   "nbconvert_exporter": "python",
   "pygments_lexer": "ipython3",
   "version": "3.8.5"
  }
 },
 "nbformat": 4,
 "nbformat_minor": 4
}
